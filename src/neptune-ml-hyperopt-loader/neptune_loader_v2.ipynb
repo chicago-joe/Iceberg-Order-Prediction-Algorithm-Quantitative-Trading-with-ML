{
 "cells": [
  {
   "cell_type": "code",
   "execution_count": 57,
   "id": "660deeff-e433-423e-8a36-648fffc4fbe1",
   "metadata": {
    "execution": {
     "iopub.execute_input": "2025-04-14T01:53:15.423362Z",
     "iopub.status.busy": "2025-04-14T01:53:15.422303Z",
     "iopub.status.idle": "2025-04-14T01:53:16.590253Z",
     "shell.execute_reply": "2025-04-14T01:53:16.589443Z",
     "shell.execute_reply.started": "2025-04-14T01:53:15.423318Z"
    },
    "tags": []
   },
   "outputs": [],
   "source": [
    "import os\n",
    "import neptune\n",
    "import zipfile\n",
    "import shutil\n",
    "\n",
    "# === CONFIGURATION ===\n",
    "API_TOKEN = os.getenv(\"NEPTUNE_API_TOKEN\", \"eyJhcGlfYWRkcmVzcyI6Imh0dHBzOi8vYXBwLm5lcHR1bmUuYWkiLCJhcGlfdXJsIjoiaHR0cHM6Ly9hcHAubmVwdHVuZS5haSIsImFwaV9rZXkiOiIxZjNlODVlNC04NzYwLTQ5ZWItYTUyYy1kY2EwNjBmYjFjODcifQ==\")  # Replace with your API token or set the environment variable.\n",
    "PROJECT_NAME = \"sbuser/SX3M\"              # Adjust to your project name.\n",
    "RUN_IDS = {\n",
    "    \"SXM-449\": \"SXM-449\",  # Replace with the actual run identifier if different.\n",
    "    \"SXM-762\": \"SXM-762\"   # Replace with the actual run identifier if different.\n",
    "}\n",
    "DOWNLOAD_BASE_DIR = \"./neptune_runs\"\n",
    "\n",
    "# Create base directory for downloads\n",
    "os.makedirs(DOWNLOAD_BASE_DIR, exist_ok=True)"
   ]
  },
  {
   "cell_type": "code",
   "execution_count": 57,
   "id": "73415b5c-0927-4fb9-8f27-82fd380b81eb",
   "metadata": {
    "execution": {
     "iopub.execute_input": "2025-04-14T01:53:15.423362Z",
     "iopub.status.busy": "2025-04-14T01:53:15.422303Z",
     "iopub.status.idle": "2025-04-14T01:53:16.590253Z",
     "shell.execute_reply": "2025-04-14T01:53:16.589443Z",
     "shell.execute_reply.started": "2025-04-14T01:53:15.423318Z"
    },
    "tags": []
   },
   "outputs": [],
   "source": [
    "p =neptune.Project(project=\"sbuser/SX3M\",\n",
    "                  api_token=os.getenv(\"NEPTUNE_API_TOKEN\", \"eyJhcGlfYWRkcmVzcyI6Imh0dHBzOi8vYXBwLm5lcHR1bmUuYWkiLCJhcGlfdXJsIjoiaHR0cHM6Ly9hcHAubmVwdHVuZS5haSIsImFwaV9rZXkiOiIxZjNlODVlNC04NzYwLTQ5ZWItYTUyYy1kY2EwNjBmYjFjODcifQ==\")  )\n",
    "\n",
    "models_table_d=p.fetch_models_table().to_pandas()"
   ]
  },
  {
   "cell_type": "code",
   "execution_count": 57,
   "id": "c32da277-cfdc-4cdb-a068-3e97c3dafefc",
   "metadata": {
    "execution": {
     "iopub.execute_input": "2025-04-14T01:53:15.423362Z",
     "iopub.status.busy": "2025-04-14T01:53:15.422303Z",
     "iopub.status.idle": "2025-04-14T01:53:16.590253Z",
     "shell.execute_reply": "2025-04-14T01:53:16.589443Z",
     "shell.execute_reply.started": "2025-04-14T01:53:15.423318Z"
    },
    "tags": []
   },
   "outputs": [],
   "source": [
    "models_table=p.fetch_models_table()\n",
    "\n",
    "lgbm=models_table.to_rows()[0]"
   ]
  },
  {
   "cell_type": "code",
   "execution_count": 57,
   "id": "e539839c-9112-4678-bcec-7acc1209ffee",
   "metadata": {
    "execution": {
     "iopub.execute_input": "2025-04-14T01:53:15.423362Z",
     "iopub.status.busy": "2025-04-14T01:53:15.422303Z",
     "iopub.status.idle": "2025-04-14T01:53:16.590253Z",
     "shell.execute_reply": "2025-04-14T01:53:16.589443Z",
     "shell.execute_reply.started": "2025-04-14T01:53:15.423318Z"
    },
    "tags": []
   },
   "outputs": [],
   "source": [
    "model = neptune.Model(project=\"sbuser/SX3M\", mode=\"read-only\", with_id=\"SXM-XGRF\",\n",
    "                  api_token=os.getenv(\"NEPTUNE_API_TOKEN\", \"eyJhcGlfYWRkcmVzcyI6Imh0dHBzOi8vYXBwLm5lcHR1bmUuYWkiLCJhcGlfdXJsIjoiaHR0cHM6Ly9hcHAubmVwdHVuZS5haSIsImFwaV9rZXkiOiIxZjNlODVlNC04NzYwLTQ5ZWItYTUyYy1kY2EwNjBmYjFjODcifQ==\")  )\n",
    "\n",
    "mv=model.fetch_model_versions_table().to_pandas().T"
   ]
  },
  {
   "cell_type": "code",
   "execution_count": null,
   "id": "35c5122d-6dad-4b77-b6ab-b1702a3f625d",
   "metadata": {},
   "outputs": [],
   "source": [
    "run = neptune.Run(project=\"sbuser/SX3M\", mode=\"read-only\", with_id=\"SXM-449\",\n",
    "                  api_token=os.getenv(\"NEPTUNE_API_TOKEN\", \"eyJhcGlfYWRkcmVzcyI6Imh0dHBzOi8vYXBwLm5lcHR1bmUuYWkiLCJhcGlfdXJsIjoiaHR0cHM6Ly9hcHAubmVwdHVuZS5haSIsImFwaV9rZXkiOiIxZjNlODVlNC04NzYwLTQ5ZWItYTUyYy1kY2EwNjBmYjFjODcifQ==\")  )\n",
    "\n",
    "models =run.get_attribute('model').fetch().keys()\n",
    "for model_name in models:\n",
    "    model_run_environment =  run['model'][model_name].fetch().keys() # dict_keys(['estimator', 'hyperoptimized_best_params', 'sys', 'tuning'])\n",
    "    \n",
    "    #continue for loop through model names\n",
    "    run['model']['XGBoost'].fetch().keys()  #dict_keys(['estimator', 'hyperoptimized_best_params', 'sys', 'tuning'])\n",
    "\n",
    "    model_params=run['model']['XGBoost']['estimator']['params'].fetch()  # returns one more dict that has all the types and values\n",
    "    \n",
    "    #next keep in model name dict\n",
    "    best_parms=run['model']['XGBoost']['hyperoptimized_best_params'].fetch()\n",
    "​"
   ]
  },
  {
   "cell_type": "code",
   "execution_count": null,
   "id": "4afc69e4-bf5a-4c80-9d26-6346ded62a51",
   "metadata": {},
   "outputs": [],
   "source": [
    "mrun = run.fetch()['model']\n",
    "\n",
    "run_structure = run.print_structure()\n",
    "\n",
    "ns=run[\"model\"]\n",
    "\n",
    "ns.container.print_structure()\n",
    "for i in ns[\"model\"]:\n",
    "    i.fetch()\n",
    "\n",
    "def download_run_data(run_id):\n",
    "    print(f\"Processing run {run_id}...\")\n",
    "    # Initialize the run object (read-only mode)\n",
    "    run = neptune.init_run(\n",
    "        project=PROJECT_NAME,\n",
    "        api_token=API_TOKEN,\n",
    "        run=run_id,\n",
    "        mode=\"read-only\"  # Ensure we are not modifying anything.\n",
    "    )\n",
    "    \n",
    "    # Create a subdirectory for this run\n",
    "    run_dir = os.path.join(DOWNLOAD_BASE_DIR, run_id)\n",
    "    os.makedirs(run_dir, exist_ok=True)\n",
    "\n",
    "    # Download all files (artifacts & metadata)\n",
    "    # Note: You might need to adjust the download_files call according to your Neptune version\n",
    "    run.download_files(destination=run_dir)\n",
    "    \n",
    "    # Terminate the run to free resources\n",
    "    run.stop()\n",
    "    \n",
    "    # Zip the downloaded directory\n",
    "    zip_filename = os.path.join(DOWNLOAD_BASE_DIR, f\"{run_id}_run_data.zip\")\n",
    "    print(f\"Creating ZIP file: {zip_filename}\")\n",
    "    with zipfile.ZipFile(zip_filename, 'w', zipfile.ZIP_DEFLATED) as zipf:\n",
    "        for root, dirs, files in os.walk(run_dir):\n",
    "            for file in files:\n",
    "                file_path = os.path.join(root, file)\n",
    "                zipf.write(file_path, os.path.relpath(file_path, run_dir))\n",
    "    \n",
    "    # Optionally, remove the unzipped files to save space\n",
    "    shutil.rmtree(run_dir)\n",
    "    print(f\"Run {run_id} data has been downloaded and zipped.\\n\")\n",
    "\n",
    "for run_label, run_id in RUN_IDS.items():\n",
    "    download_run_data(run_id)"
   ]
  }
 ],
 "metadata": {
  "kernelspec": {
   "display_name": "Python 3 (ipykernel)",
   "language": "python",
   "name": "python3"
  },
  "language_info": {
   "codemirror_mode": {
    "name": "ipython",
    "version": 3
   },
   "file_extension": ".py",
   "mimetype": "text/x-python",
   "name": "python",
   "nbconvert_exporter": "python",
   "pygments_lexer": "ipython3",
   "version": "3.12.10"
  },
  "widgets": {
   "application/vnd.jupyter.widget-state+json": {
    "state": {},
    "version_major": 2,
    "version_minor": 0
   }
  }
 },
 "nbformat": 4,
 "nbformat_minor": 5
}

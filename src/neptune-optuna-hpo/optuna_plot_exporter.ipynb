{
 "cells": [
  {
   "cell_type": "code",
   "execution_count": null,
   "id": "48270991-6a6f-4c87-96ef-f17966d776ea",
   "metadata": {},
   "outputs": [],
   "source": [
    "from optuna.visualization import *\n",
    "from optuna import Study\n",
    "from optuna import load_study\n",
    "from pathlib2 import Path\n",
    "from optuna import get_all_study_names\n",
    "from optuna.storages import RDBStorage\n",
    "from optuna.importance import get_param_importances\n",
    "import plotly.io as pio\n",
    "import pandas as pd"
   ]
  },
  {
   "cell_type": "code",
   "execution_count": null,
   "id": "a413b8b6-df9d-4b12-8acc-69dae7742b14",
   "metadata": {},
   "outputs": [],
   "source": [
    "for plot in [\n",
    "    plot_slice, plot_param_importances, plot_parallel_coordinate, \n",
    "    plot_contour, plot_optimization_history, plot_edf\n",
    "]:\n",
    "    pass"
   ]
  },
  {
   "cell_type": "code",
   "execution_count": null,
   "id": "516f7968-7fbf-402a-8317-ef50962cca42",
   "metadata": {},
   "outputs": [],
   "source": [
    "datadir = Path(\"./data/hyperparameter-optimization/\")\n",
    "lstModels=[]"
   ]
  },
  {
   "cell_type": "code",
   "execution_count": null,
   "id": "c4355a91-2697-41d4-8a6f-7a77e5fc46ee",
   "metadata": {},
   "outputs": [],
   "source": [
    "list(datadir.glob(\"*\"))"
   ]
  },
  {
   "cell_type": "code",
   "execution_count": null,
   "id": "2c6bf118-b149-47f8-b425-da195f6c51a9",
   "metadata": {},
   "outputs": [],
   "source": [
    "for d in list(datadir.iterdir()):\n",
    "    if d.is_dir():\n",
    "        lstModels.append(d)"
   ]
  },
  {
   "cell_type": "code",
   "execution_count": null,
   "id": "5e1982c2-a2d3-48b9-99ac-7713fb2c39e2",
   "metadata": {},
   "outputs": [],
   "source": [
    "lstModels"
   ]
  },
  {
   "cell_type": "code",
   "execution_count": null,
   "id": "2441643d-9b45-4a42-9908-24feb7d90f21",
   "metadata": {},
   "outputs": [],
   "source": [
    "ls ./data/hyperparameter-optimization/LightGBM/"
   ]
  },
  {
   "cell_type": "code",
   "execution_count": null,
   "id": "c74e1f58-d7ef-4646-9145-4dc2e5fc8bf0",
   "metadata": {},
   "outputs": [],
   "source": [
    "study_db=Path(\"./data/hyperparameter-optimization/study.db\")"
   ]
  },
  {
   "cell_type": "code",
   "execution_count": null,
   "id": "da4e7c14-c0d8-4c11-9c67-58dd185116ac",
   "metadata": {},
   "outputs": [],
   "source": [
    "storage = RDBStorage(url=\"sqlite:///study.db\")"
   ]
  },
  {
   "cell_type": "code",
   "execution_count": null,
   "id": "3ba86058-03ec-4dfa-84ba-60b1fff6ec80",
   "metadata": {},
   "outputs": [],
   "source": [
    "storage.get_all_studies()[0].study_name"
   ]
  },
  {
   "cell_type": "code",
   "execution_count": null,
   "id": "431aa53a-2427-462d-89c0-3f995239c508",
   "metadata": {},
   "outputs": [],
   "source": [
    "get_all_study_names(storage)"
   ]
  },
  {
   "cell_type": "code",
   "execution_count": null,
   "id": "ee6e9d52-5e22-4613-b11e-54be6298ce9f",
   "metadata": {},
   "outputs": [],
   "source": [
    "study_names=get_all_study_names(storage)"
   ]
  },
  {
   "cell_type": "code",
   "execution_count": 111,
   "id": "258b68ec-23a5-4af7-99d6-2ec1e835231c",
   "metadata": {},
   "outputs": [],
   "source": [
    "for study in storage.get_all_studies():\n",
    "    study_name = study.study_name\n",
    "    model_name = study_name.replace(\"-449\", \"\")\n",
    "    loaded_study = Study(study_name, storage)    \n",
    "    \n",
    "    model_image_directory = datadir.joinpath(model_name, \"images\")\n",
    "    if not model_image_directory.exists():\n",
    "        model_image_directory.mkdir(exist_ok=True)\n",
    "\n",
    "\n",
    "    ser = pd.Series(get_param_importances(loaded_study))\n",
    "    top_params = ser.sort_values(ascending=False).nlargest(4)\n",
    "    \n",
    "    plots = {\n",
    "        \"plot_param_importances\": plot_param_importances,\n",
    "        \"plot_slice\": plot_slice,\n",
    "        \"plot_rank\":plot_rank,\n",
    "        \"plot_parallel_coordinate\": plot_parallel_coordinate,\n",
    "        \"plot_contour\": plot_contour,\n",
    "        \"plot_optimization_history\": plot_optimization_history,\n",
    "        \"plot_edf\": plot_edf,\n",
    "    }\n",
    "    \n",
    "    for name, plot in plots.items():\n",
    "        plot_name = name\n",
    "        plot_fpath = model_image_directory.joinpath(f\"{model_name.replace(\" \", \"_\").lower()}_{plot_name}\")\n",
    "        \n",
    "        if plot_name in [\"plot_rank\",\"plot_contour\"]:\n",
    "            plot_plot = plot(loaded_study,params=top_params.index.to_list(), target_name=\"max_precision_optimal_recall_score\",)\n",
    "        else:\n",
    "            plot_plot = plot(loaded_study)\n",
    "        \n",
    "        # write to plotly json\n",
    "        ppj = pio.from_json(plot_plot.to_json())\n",
    "\n",
    "        ppj.update_layout(template=\"seaborn\")\n",
    "        \n",
    "        # pp.update_layout(font=dict(family=\"Courier New\", size=16, color=\"lightyellow\"),\n",
    "            # paper_bgcolor=\"black\",\n",
    "            # plot_bgcolor=\"black\",\n",
    "        # )\n",
    "\n",
    "        ppj.write_image(file=plot_fpath.with_suffix(\".png\").as_posix(), format=\"png\", scale=3)\n",
    "        ppj.write_html(file=plot_fpath.with_suffix(\".html\").as_posix(),auto_open=True,auto_play=True,full_html=True,include_plotlyjs=True)"
   ]
  },
  {
   "cell_type": "markdown",
   "id": "56cc4b61-f0f1-4dc1-87ed-680f07e53594",
   "metadata": {},
   "source": [
    "## "
   ]
  },
  {
   "cell_type": "code",
   "execution_count": 109,
   "id": "79bb455b-6830-473e-a56f-1b416057ef22",
   "metadata": {},
   "outputs": [],
   "source": [
    "# plot_plot.write_image(file=plot_fpath.with_suffix(\".png\").as_posix(), format=\"png\")\n",
    "# plot_plot.write_html(file=plot_fpath.with_suffix(\".html\").as_posix(), )       "
   ]
  },
  {
   "cell_type": "code",
   "execution_count": null,
   "id": "0e81ed6d-8a88-4fed-9d48-ee2bdf5d6ec6",
   "metadata": {},
   "outputs": [],
   "source": []
  },
  {
   "cell_type": "code",
   "execution_count": null,
   "id": "b5a765b8-43ad-4410-8e44-432de08b3932",
   "metadata": {},
   "outputs": [],
   "source": [
    "# plot_plot.write_image(file=plot_fpath.with_suffix(\".png\").as_posix(), format=\"png\")\n",
    "# plot_plot.write_html(file=plot_fpath.with_suffix(\".html\").as_posix(), )"
   ]
  },
  {
   "cell_type": "code",
   "execution_count": null,
   "id": "f853b992-da08-45d4-b184-78c4ed067d2e",
   "metadata": {},
   "outputs": [],
   "source": [
    "# ppj.write_image(file=plot_fpath.with_suffix(\".png\").as_posix(), format=\"png\", width=800,height=600)\n",
    "\n",
    "# ppj.write_html(file=plot_fpath.with_suffix(\".html\").as_posix(),auto_open=True,auto_play=True,full_html=True,include_plotlyjs=True)"
   ]
  }
 ],
 "metadata": {
  "jupytext": {
   "formats": "ipynb,md:myst"
  },
  "kernelspec": {
   "display_name": "Python 3 (ipykernel)",
   "language": "python",
   "name": "python3"
  },
  "language_info": {
   "codemirror_mode": {
    "name": "ipython",
    "version": 3
   },
   "file_extension": ".py",
   "mimetype": "text/x-python",
   "name": "python",
   "nbconvert_exporter": "python",
   "pygments_lexer": "ipython3",
   "version": "3.12.10"
  },
  "widgets": {
   "application/vnd.jupyter.widget-state+json": {
    "state": {},
    "version_major": 2,
    "version_minor": 0
   }
  }
 },
 "nbformat": 4,
 "nbformat_minor": 5
}

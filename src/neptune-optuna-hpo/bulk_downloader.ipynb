{
 "cells": [
  {
   "cell_type": "code",
   "execution_count": 1,
   "id": "d77abb04-421e-41ce-9a91-6be101b1ed9a",
   "metadata": {},
   "outputs": [],
   "source": [
    "# Instructions on how to use this script can be found at\n",
    "# https://github.com/neptune-ai/examples/blob/main/utils/migration_tools/backup_neptune/README.md\n",
    "VERSION = \"0.1.1\""
   ]
  },
  {
   "cell_type": "code",
   "execution_count": 2,
   "id": "2058370b-3f43-440a-a85e-50516057b102",
   "metadata": {},
   "outputs": [
    {
     "data": {
      "text/plain": [
       "True"
      ]
     },
     "execution_count": 2,
     "metadata": {},
     "output_type": "execute_result"
    }
   ],
   "source": [
    "from dotenv import load_dotenv\n",
    "load_dotenv()\n"
   ]
  },
  {
   "cell_type": "code",
   "execution_count": 3,
   "id": "2f095587-f6af-4aef-8819-08eebc6e70a2",
   "metadata": {},
   "outputs": [],
   "source": [
    "# %% Import libraries\n",
    "import io\n",
    "import json\n",
    "import logging\n",
    "import os\n",
    "from contextlib import redirect_stdout\n",
    "from datetime import datetime\n",
    "from typing import Optional\n",
    "\n",
    "import neptune\n",
    "from neptune import management\n",
    "from tqdm.auto import tqdm"
   ]
  },
  {
   "cell_type": "code",
   "execution_count": 4,
   "id": "b1c25aca-932a-4c9e-b554-1acc1401d8d5",
   "metadata": {},
   "outputs": [
    {
     "name": "stdout",
     "output_type": "stream",
     "text": [
      "Logs available at neptune_backup_20250417125739.log\n"
     ]
    }
   ],
   "source": [
    "_UNFETCHABLE_NAMESPACES = [\n",
    "    \"sys/state\",\n",
    "    \"source_code/git\",\n",
    "]\n",
    "\n",
    "_JSON_FILENAME = \"simple_metadata.json\"\n",
    "\n",
    "# %% Set up logging\n",
    "log_filename = datetime.now().strftime(\"neptune_backup_%Y%m%d%H%M%S.log\")\n",
    "print(f\"Logs available at {log_filename}\")\n",
    "\n",
    "logging.basicConfig(\n",
    "    filename=log_filename,\n",
    "    filemode=\"a\",\n",
    "    format=\"%(asctime)s %(name)s %(levelname)s %(message)s\",\n",
    "    datefmt=\"%Y-%m-%d %H:%M:%S\",\n",
    "    level=logging.INFO,\n",
    "    force=True,\n",
    ")\n",
    "\n",
    "logging.getLogger(\"neptune.internal.operation_processors.async_operation_processor\").setLevel(\n",
    "    logging.CRITICAL\n",
    ")\n",
    "\n",
    "logging.info(\"Backup process started\")\n",
    "\n",
    "# %%"
   ]
  },
  {
   "cell_type": "code",
   "execution_count": 5,
   "id": "ae0c12b8-9d34-419d-857a-d59c137ea427",
   "metadata": {},
   "outputs": [],
   "source": [
    "download_folder = \"./bulk_downloads\"\n",
    "\n",
    "if download_folder == \"\":\n",
    "    download_folder = os.getcwd()"
   ]
  },
  {
   "cell_type": "code",
   "execution_count": 6,
   "id": "ca6e643f-e26d-4282-8e55-b29d17751c98",
   "metadata": {},
   "outputs": [],
   "source": [
    "os.makedirs(download_folder, exist_ok=True)\n",
    "logging.info(f\"Downloading to {download_folder}\")\n",
    "\n",
    "# %%"
   ]
  },
  {
   "cell_type": "code",
   "execution_count": 7,
   "id": "f6915421-d0c0-40a6-ad82-0466eab56cee",
   "metadata": {},
   "outputs": [],
   "source": [
    "download_artifacts = \"y\"\n",
    "logging.info(f\"{download_artifacts=}\")\n",
    "\n",
    "# %%"
   ]
  },
  {
   "cell_type": "code",
   "execution_count": 8,
   "id": "fbfe4aca-f320-4754-86d5-1390aec59180",
   "metadata": {},
   "outputs": [
    {
     "name": "stdout",
     "output_type": "stream",
     "text": [
      "Projects found: ['sbuser/example-project-tensorflow-keras', 'sbuser/SX3M']\n"
     ]
    }
   ],
   "source": [
    "projects = management.get_project_list()\n",
    "\n",
    "print(f\"Projects found: {projects}\")\n",
    "logging.info(f\"Projects found: {projects}\")\n",
    "\n",
    "# %%"
   ]
  },
  {
   "cell_type": "code",
   "execution_count": 9,
   "id": "07af2d9a-2cd1-4873-9705-26ec02c4d32a",
   "metadata": {},
   "outputs": [],
   "source": [
    "selected_projects = os.environ[\"NEPTUNE_PROJECT\"]\n",
    "logging.info(f\"Exporting {selected_projects}\")"
   ]
  },
  {
   "cell_type": "code",
   "execution_count": 10,
   "id": "4dd9c7b7-5092-4184-a513-35d44c0239ce",
   "metadata": {},
   "outputs": [],
   "source": [
    "if selected_projects == \"all\":\n",
    "    selected_projects = projects\n",
    "else:\n",
    "    selected_projects = selected_projects.split(\",\")"
   ]
  },
  {
   "cell_type": "code",
   "execution_count": 11,
   "id": "70e997c0-71d1-41a0-b905-07b07218d9fc",
   "metadata": {},
   "outputs": [],
   "source": [
    "# %%\n",
    "def flatten_namespaces(\n",
    "    dictionary: dict, prefix: Optional[list] = None, result: Optional[list] = None\n",
    ") -> list:\n",
    "    if prefix is None:\n",
    "        prefix = []\n",
    "    if result is None:\n",
    "        result = []\n",
    "\n",
    "    for k, v in dictionary.items():\n",
    "        if isinstance(v, dict):\n",
    "            flatten_namespaces(v, prefix + [k], result)\n",
    "        elif prefix_str := \"/\".join(prefix):\n",
    "            result.append(f\"{prefix_str}/{k}\")\n",
    "        else:\n",
    "            result.append(k)\n",
    "    return result"
   ]
  },
  {
   "cell_type": "code",
   "execution_count": 12,
   "id": "e0af4321-945b-4ab3-909f-58d35b423595",
   "metadata": {},
   "outputs": [
    {
     "name": "stdout",
     "output_type": "stream",
     "text": [
      "Starting backup. View logs at neptune_backup_20250417125739.log. Press Ctrl/Cmd + C to cancel at any time\n"
     ]
    }
   ],
   "source": [
    "# %% Start backup\n",
    "print(f\"Starting backup. View logs at {log_filename}. Press Ctrl/Cmd + C to cancel at any time\")"
   ]
  },
  {
   "cell_type": "code",
   "execution_count": 13,
   "id": "6227a8fa-c453-46d9-a5bb-badaf23d26e2",
   "metadata": {},
   "outputs": [],
   "source": [
    "def download_metadata_for_runs(run_ids=[]):\n",
    "    for project in tqdm(selected_projects, desc=\"Total progress\"):\n",
    "        project_download_path = os.path.join(download_folder, project)\n",
    "        os.makedirs(project_download_path, exist_ok=True)\n",
    "        logging.info(f\"Downloading runs from {project} to {project_download_path}\")\n",
    "    \n",
    "        with redirect_stdout(io.StringIO()) as f:\n",
    "            with neptune.init_project(project=project, mode=\"read-only\") as _project:\n",
    "                # Fetch runs table\n",
    "                runs_table = _project.fetch_runs_table(columns=[]).to_pandas()\n",
    "\n",
    "                if len(run_ids) >= 1:\n",
    "                    runs = run_ids\n",
    "                else: \n",
    "                    runs = list(runs_table[\"sys/id\"])\n",
    "                    \n",
    "                print(f\"Running download for {len(runs)}:\\n{run_ids}\")                \n",
    "                for run_id in tqdm(runs, desc=project):\n",
    "                    with neptune.init_run(\n",
    "                        project=project,\n",
    "                        with_id=run_id,\n",
    "                        mode=\"read-only\",\n",
    "                    ) as run:\n",
    "                        run_download_path = os.path.join(project_download_path, run_id)\n",
    "                        os.makedirs(run_download_path, exist_ok=True)\n",
    "                        logging.info(f\"Downloading {project}/{run_id} to {run_download_path}\")\n",
    "\n",
    "                        namespaces = flatten_namespaces(run.get_structure())\n",
    "                        single_values = {}\n",
    "\n",
    "                        for namespace in namespaces:\n",
    "                            if namespace in _UNFETCHABLE_NAMESPACES:\n",
    "                                continue\n",
    "\n",
    "                            namespace_download_path = os.path.join(run_download_path, namespace)\n",
    "\n",
    "                            try:\n",
    "                                if str(run[namespace]).split()[0] == \"<Artifact\":\n",
    "                                    if download_artifacts:\n",
    "                                        # Download artifact\n",
    "                                        run[namespace].download(namespace_download_path)\n",
    "                                elif str(run[namespace]).split()[0] == \"<StringSet\":\n",
    "                                    # Write to single_values container\n",
    "                                    single_values[namespace] = run[namespace].fetch()\n",
    "\n",
    "                                elif str(run[namespace]).split()[0] in (\n",
    "                                    \"<FloatSeries\",\n",
    "                                    \"<StringSeries\",\n",
    "                                ):\n",
    "                                    # Download FloatSeries, StringSeries as CSV\n",
    "                                    os.makedirs(\n",
    "                                        os.path.dirname(namespace_download_path),\n",
    "                                        exist_ok=True,\n",
    "                                    )\n",
    "                                    run[namespace].fetch_values().to_csv(\n",
    "                                        f\"{str(os.path.join(namespace_download_path))}.csv\",\n",
    "                                        index=False,\n",
    "                                    )\n",
    "\n",
    "                                elif str(run[namespace]).split()[0] == \"<File\":\n",
    "                                    # Download File\n",
    "                                    os.makedirs(\n",
    "                                        os.path.dirname(namespace_download_path),\n",
    "                                        exist_ok=True,\n",
    "                                    )\n",
    "                                    ext = run[namespace].fetch_extension()\n",
    "                                    run[namespace].download(f\"{namespace_download_path}.{ext}\")\n",
    "\n",
    "                                elif str(run[namespace]).split()[0] == \"<FileSeries\":\n",
    "                                    # Download FileSeries\n",
    "                                    run[namespace].download(namespace_download_path)\n",
    "\n",
    "                                elif str(run[namespace]).split()[0] == \"<FileSet\":\n",
    "                                    # Download FileSet\n",
    "                                    os.makedirs(\n",
    "                                        os.path.dirname(namespace_download_path),\n",
    "                                        exist_ok=True,\n",
    "                                    )\n",
    "                                    run[namespace].download(f\"{namespace_download_path}.zip\")\n",
    "\n",
    "                                else:\n",
    "                                    # Write to single_values container\n",
    "                                    single_values[namespace] = run[namespace].fetch()\n",
    "\n",
    "                                # Export single_values container as json\n",
    "                                with open(\n",
    "                                    os.path.join(run_download_path, _JSON_FILENAME),\n",
    "                                    mode=\"w+\",\n",
    "                                ) as file:\n",
    "                                    file.write(\n",
    "                                        json.dumps(\n",
    "                                            single_values,\n",
    "                                            indent=4,\n",
    "                                            sort_keys=True,\n",
    "                                            default=str,\n",
    "                                        )\n",
    "                                    )\n",
    "\n",
    "                            except Exception as e:\n",
    "                                logging.error(f\"Error while downloading {namespace}\\n{e}\")\n",
    "                                break\n",
    "\n",
    "    \n",
    "    logging.info(\"Backup complete!\")\n",
    "\n",
    "# %%"
   ]
  },
  {
   "cell_type": "code",
   "execution_count": 14,
   "id": "24615ccd-594f-47aa-8239-0b1e6e1cee57",
   "metadata": {
    "editable": true,
    "scrolled": true,
    "slideshow": {
     "slide_type": ""
    },
    "tags": []
   },
   "outputs": [
    {
     "data": {
      "application/vnd.jupyter.widget-view+json": {
       "model_id": "e389619698c346deb532bc18ed0bcad6",
       "version_major": 2,
       "version_minor": 0
      },
      "text/plain": [
       "Total progress:   0%|          | 0/1 [00:00<?, ?it/s]"
      ]
     },
     "metadata": {},
     "output_type": "display_data"
    },
    {
     "name": "stderr",
     "output_type": "stream",
     "text": [
      "[neptune] [warning] NeptuneWarning: Column sys/creation_time contains more than one simple data type. Sorting result might be inaccurate.\n"
     ]
    },
    {
     "data": {
      "application/vnd.jupyter.widget-view+json": {
       "model_id": "19bc562308044aa5931520f545b23da6",
       "version_major": 2,
       "version_minor": 0
      },
      "text/plain": [
       "sbuser/SX3M:   0%|          | 0/1 [00:00<?, ?it/s]"
      ]
     },
     "metadata": {},
     "output_type": "display_data"
    },
    {
     "data": {
      "application/vnd.jupyter.widget-view+json": {
       "model_id": "1684e1b5c1674649b00f91faa70468b1",
       "version_major": 2,
       "version_minor": 0
      },
      "text/plain": [
       "Fetching file...: 0 [00:00, ?/s]"
      ]
     },
     "metadata": {},
     "output_type": "display_data"
    },
    {
     "data": {
      "application/vnd.jupyter.widget-view+json": {
       "model_id": "0356eebbff8f486e906af1badea8e470",
       "version_major": 2,
       "version_minor": 0
      },
      "text/plain": [
       "Fetching file...: 0 [00:00, ?/s]"
      ]
     },
     "metadata": {},
     "output_type": "display_data"
    },
    {
     "data": {
      "application/vnd.jupyter.widget-view+json": {
       "model_id": "d967ddde835f4daba875469b830e7ee7",
       "version_major": 2,
       "version_minor": 0
      },
      "text/plain": [
       "Fetching file...: 0 [00:00, ?/s]"
      ]
     },
     "metadata": {},
     "output_type": "display_data"
    },
    {
     "data": {
      "application/vnd.jupyter.widget-view+json": {
       "model_id": "96298e5942fc4102b1227654caac265d",
       "version_major": 2,
       "version_minor": 0
      },
      "text/plain": [
       "Fetching file...: 0 [00:00, ?/s]"
      ]
     },
     "metadata": {},
     "output_type": "display_data"
    },
    {
     "data": {
      "application/vnd.jupyter.widget-view+json": {
       "model_id": "dbb5f046c2cc4af8a3d19ae8d572f833",
       "version_major": 2,
       "version_minor": 0
      },
      "text/plain": [
       "Fetching file...: 0 [00:00, ?/s]"
      ]
     },
     "metadata": {},
     "output_type": "display_data"
    },
    {
     "data": {
      "application/vnd.jupyter.widget-view+json": {
       "model_id": "db28832157fb4968a0c44ffa3c8f7b96",
       "version_major": 2,
       "version_minor": 0
      },
      "text/plain": [
       "Fetching file...: 0 [00:00, ?/s]"
      ]
     },
     "metadata": {},
     "output_type": "display_data"
    },
    {
     "data": {
      "application/vnd.jupyter.widget-view+json": {
       "model_id": "e19c670c491e427583ac004696eb198a",
       "version_major": 2,
       "version_minor": 0
      },
      "text/plain": [
       "Fetching file...: 0 [00:00, ?/s]"
      ]
     },
     "metadata": {},
     "output_type": "display_data"
    },
    {
     "data": {
      "application/vnd.jupyter.widget-view+json": {
       "model_id": "a7a8ba576fb141dea60ad1473a9656c3",
       "version_major": 2,
       "version_minor": 0
      },
      "text/plain": [
       "Fetching file...: 0 [00:00, ?/s]"
      ]
     },
     "metadata": {},
     "output_type": "display_data"
    },
    {
     "data": {
      "application/vnd.jupyter.widget-view+json": {
       "model_id": "b7aa54ecbbda44f59f869f7a214d4f30",
       "version_major": 2,
       "version_minor": 0
      },
      "text/plain": [
       "Fetching file...: 0 [00:00, ?/s]"
      ]
     },
     "metadata": {},
     "output_type": "display_data"
    },
    {
     "data": {
      "application/vnd.jupyter.widget-view+json": {
       "model_id": "52e239c1041442578fa8059b453e46f8",
       "version_major": 2,
       "version_minor": 0
      },
      "text/plain": [
       "Fetching file...: 0 [00:00, ?/s]"
      ]
     },
     "metadata": {},
     "output_type": "display_data"
    },
    {
     "data": {
      "application/vnd.jupyter.widget-view+json": {
       "model_id": "78cdf52d0a9b4e4488b06627624a5ff8",
       "version_major": 2,
       "version_minor": 0
      },
      "text/plain": [
       "Fetching file...: 0 [00:00, ?/s]"
      ]
     },
     "metadata": {},
     "output_type": "display_data"
    },
    {
     "data": {
      "application/vnd.jupyter.widget-view+json": {
       "model_id": "68b2f54abbf144499e03c06a768337a3",
       "version_major": 2,
       "version_minor": 0
      },
      "text/plain": [
       "Fetching file...: 0 [00:00, ?/s]"
      ]
     },
     "metadata": {},
     "output_type": "display_data"
    },
    {
     "data": {
      "application/vnd.jupyter.widget-view+json": {
       "model_id": "190539b288ff429eb9a31f274fd38dde",
       "version_major": 2,
       "version_minor": 0
      },
      "text/plain": [
       "Fetching file...: 0 [00:00, ?/s]"
      ]
     },
     "metadata": {},
     "output_type": "display_data"
    },
    {
     "data": {
      "application/vnd.jupyter.widget-view+json": {
       "model_id": "4f90506a37ba43288e8271715138cfd9",
       "version_major": 2,
       "version_minor": 0
      },
      "text/plain": [
       "Fetching file...: 0 [00:00, ?/s]"
      ]
     },
     "metadata": {},
     "output_type": "display_data"
    },
    {
     "data": {
      "application/vnd.jupyter.widget-view+json": {
       "model_id": "27ba80f8857e4465aaa048bdd1509053",
       "version_major": 2,
       "version_minor": 0
      },
      "text/plain": [
       "Fetching file...: 0 [00:00, ?/s]"
      ]
     },
     "metadata": {},
     "output_type": "display_data"
    },
    {
     "data": {
      "application/vnd.jupyter.widget-view+json": {
       "model_id": "10f51bda207542d389ccce9aff42ba3e",
       "version_major": 2,
       "version_minor": 0
      },
      "text/plain": [
       "Fetching file...: 0 [00:00, ?/s]"
      ]
     },
     "metadata": {},
     "output_type": "display_data"
    },
    {
     "data": {
      "application/vnd.jupyter.widget-view+json": {
       "model_id": "c87a7991c89e4111bd443468fd81fa0d",
       "version_major": 2,
       "version_minor": 0
      },
      "text/plain": [
       "Fetching file...: 0 [00:00, ?/s]"
      ]
     },
     "metadata": {},
     "output_type": "display_data"
    },
    {
     "data": {
      "application/vnd.jupyter.widget-view+json": {
       "model_id": "55c44341239e439a973b06531fd4112d",
       "version_major": 2,
       "version_minor": 0
      },
      "text/plain": [
       "Fetching file...: 0 [00:00, ?/s]"
      ]
     },
     "metadata": {},
     "output_type": "display_data"
    },
    {
     "data": {
      "application/vnd.jupyter.widget-view+json": {
       "model_id": "cba2b8d92bc84822bbf27a1a475a7a3f",
       "version_major": 2,
       "version_minor": 0
      },
      "text/plain": [
       "Fetching file...: 0 [00:00, ?/s]"
      ]
     },
     "metadata": {},
     "output_type": "display_data"
    },
    {
     "data": {
      "application/vnd.jupyter.widget-view+json": {
       "model_id": "a897b7801c3a4f249f71c5a0e9bc47ff",
       "version_major": 2,
       "version_minor": 0
      },
      "text/plain": [
       "Fetching file...: 0 [00:00, ?/s]"
      ]
     },
     "metadata": {},
     "output_type": "display_data"
    },
    {
     "data": {
      "application/vnd.jupyter.widget-view+json": {
       "model_id": "56f95b36b93d45cc85b287dc6c373bcb",
       "version_major": 2,
       "version_minor": 0
      },
      "text/plain": [
       "Fetching file...: 0 [00:00, ?/s]"
      ]
     },
     "metadata": {},
     "output_type": "display_data"
    },
    {
     "data": {
      "application/vnd.jupyter.widget-view+json": {
       "model_id": "44d2eaee5a4b41a58f4574e1446b6ba6",
       "version_major": 2,
       "version_minor": 0
      },
      "text/plain": [
       "Fetching file...: 0 [00:00, ?/s]"
      ]
     },
     "metadata": {},
     "output_type": "display_data"
    },
    {
     "data": {
      "application/vnd.jupyter.widget-view+json": {
       "model_id": "c8a4fe3cbcb84224bb9c94475b5a4e4b",
       "version_major": 2,
       "version_minor": 0
      },
      "text/plain": [
       "Fetching file...: 0 [00:00, ?/s]"
      ]
     },
     "metadata": {},
     "output_type": "display_data"
    },
    {
     "data": {
      "application/vnd.jupyter.widget-view+json": {
       "model_id": "8976bb481e864b889152395c73dd71f9",
       "version_major": 2,
       "version_minor": 0
      },
      "text/plain": [
       "Fetching file...: 0 [00:00, ?/s]"
      ]
     },
     "metadata": {},
     "output_type": "display_data"
    },
    {
     "data": {
      "application/vnd.jupyter.widget-view+json": {
       "model_id": "d3315f39cad54673a8b97ef24087d0d6",
       "version_major": 2,
       "version_minor": 0
      },
      "text/plain": [
       "Fetching monitoring/8c08bc31/cpu values: 0 [00:00, ?/s]"
      ]
     },
     "metadata": {},
     "output_type": "display_data"
    },
    {
     "data": {
      "application/vnd.jupyter.widget-view+json": {
       "model_id": "83c5d0c5c3b74eb3af0ec8d849986d02",
       "version_major": 2,
       "version_minor": 0
      },
      "text/plain": [
       "Fetching monitoring/8c08bc31/memory values: 0 [00:00, ?/s]"
      ]
     },
     "metadata": {},
     "output_type": "display_data"
    },
    {
     "data": {
      "application/vnd.jupyter.widget-view+json": {
       "model_id": "aedc3e94933749c1bc438147e483aba1",
       "version_major": 2,
       "version_minor": 0
      },
      "text/plain": [
       "Fetching monitoring/8c08bc31/stderr values: 0 [00:00, ?/s]"
      ]
     },
     "metadata": {},
     "output_type": "display_data"
    },
    {
     "data": {
      "application/vnd.jupyter.widget-view+json": {
       "model_id": "e20f099fd312420dafb0e144c75ac8ef",
       "version_major": 2,
       "version_minor": 0
      },
      "text/plain": [
       "Fetching monitoring/8c08bc31/stdout values: 0 [00:00, ?/s]"
      ]
     },
     "metadata": {},
     "output_type": "display_data"
    }
   ],
   "source": [
    "download_metadata_for_runs(run_ids=[\"SXM-762\",\"SXM-449\"])"
   ]
  }
 ],
 "metadata": {
  "kernelspec": {
   "display_name": "Python 3 (ipykernel)",
   "language": "python",
   "name": "python3"
  },
  "language_info": {
   "codemirror_mode": {
    "name": "ipython",
    "version": 3
   },
   "file_extension": ".py",
   "mimetype": "text/x-python",
   "name": "python",
   "nbconvert_exporter": "python",
   "pygments_lexer": "ipython3",
   "version": "3.12.10"
  },
  "widgets": {
   "application/vnd.jupyter.widget-state+json": {
    "state": {
     "01e48450635c4cf59a3d1f1beb09f451": {
      "model_module": "@jupyter-widgets/base",
      "model_module_version": "2.0.0",
      "model_name": "LayoutModel",
      "state": {
       "width": "20px"
      }
     },
     "027fadf99c7746299dc90f4523b9d2e1": {
      "model_module": "@jupyter-widgets/controls",
      "model_module_version": "2.0.0",
      "model_name": "FloatProgressModel",
      "state": {
       "bar_style": "success",
       "layout": "IPY_MODEL_4ff2df69d54343a298446e9a67b64b51",
       "max": 1,
       "style": "IPY_MODEL_2477828247a54a95ac0a8a578e602dc4",
       "value": 1
      }
     },
     "02f149d8188c4667941d5692359370ac": {
      "model_module": "@jupyter-widgets/controls",
      "model_module_version": "2.0.0",
      "model_name": "HTMLStyleModel",
      "state": {
       "description_width": "",
       "font_size": null,
       "text_color": null
      }
     },
     "0313299627684f0ca0107d68b1b6c950": {
      "model_module": "@jupyter-widgets/controls",
      "model_module_version": "2.0.0",
      "model_name": "FloatProgressModel",
      "state": {
       "bar_style": "success",
       "layout": "IPY_MODEL_b42d27a4261d489c8eae280ee8bba76e",
       "max": 1,
       "style": "IPY_MODEL_10f732a72c97458d8f3c2865b8cdcc6e",
       "value": 1
      }
     },
     "0356eebbff8f486e906af1badea8e470": {
      "model_module": "@jupyter-widgets/controls",
      "model_module_version": "2.0.0",
      "model_name": "HBoxModel",
      "state": {
       "children": [
        "IPY_MODEL_ed3dbb1507b04436bdfdfde3ff55d6f5",
        "IPY_MODEL_18c01b075b1246aabb99f44f7e69f47e",
        "IPY_MODEL_92a1bc7b1794438cbcc02f179b23cb6f"
       ],
       "layout": "IPY_MODEL_170cf4e729e844739fdf945dfda02af5"
      }
     },
     "0369a6478ac34c5e846c82ca163f88e1": {
      "model_module": "@jupyter-widgets/base",
      "model_module_version": "2.0.0",
      "model_name": "LayoutModel",
      "state": {}
     },
     "068cecbdccd746f586c748f5bab6c927": {
      "model_module": "@jupyter-widgets/controls",
      "model_module_version": "2.0.0",
      "model_name": "HTMLModel",
      "state": {
       "layout": "IPY_MODEL_06d5251292b84893bb38a597e8f06683",
       "style": "IPY_MODEL_0be422bcf82d43878fd4927bf5b3b733",
       "value": "Fetching file...: "
      }
     },
     "06d5251292b84893bb38a597e8f06683": {
      "model_module": "@jupyter-widgets/base",
      "model_module_version": "2.0.0",
      "model_name": "LayoutModel",
      "state": {}
     },
     "07b994800f334dc5b20e885c18694aee": {
      "model_module": "@jupyter-widgets/controls",
      "model_module_version": "2.0.0",
      "model_name": "HTMLModel",
      "state": {
       "layout": "IPY_MODEL_9740234ffd90489c86e1d06b2779cbd7",
       "style": "IPY_MODEL_d3cd0c811f4c4abeb7bbf73c33d9eab7",
       "value": "Fetching monitoring/8c08bc31/cpu values: 100%"
      }
     },
     "07ed4f03c3d947e3b26330808dd6870c": {
      "model_module": "@jupyter-widgets/controls",
      "model_module_version": "2.0.0",
      "model_name": "HTMLModel",
      "state": {
       "layout": "IPY_MODEL_24bbb91ae25942f2910b87f04687b0ac",
       "style": "IPY_MODEL_c6c29f7796dd4a1d9d0d214e2bd91bcb",
       "value": " 3640166/? [00:00&lt;00:00, 17504865.46/s]"
      }
     },
     "083a59a50eb94d36821e22c0c4ce6d8c": {
      "model_module": "@jupyter-widgets/controls",
      "model_module_version": "2.0.0",
      "model_name": "HTMLModel",
      "state": {
       "layout": "IPY_MODEL_87191ce0191d4dc89bb6051cdf5a0781",
       "style": "IPY_MODEL_e98ac20d5efd4e1cb8a052016560a008",
       "value": " 3608476/? [00:00&lt;00:00, 15076852.01/s]"
      }
     },
     "0998ef4af0b54a3d8dcd400d4e851a2b": {
      "model_module": "@jupyter-widgets/controls",
      "model_module_version": "2.0.0",
      "model_name": "HTMLStyleModel",
      "state": {
       "description_width": "",
       "font_size": null,
       "text_color": null
      }
     },
     "0aada80bd6614396b67c0a70fe9b0cfe": {
      "model_module": "@jupyter-widgets/controls",
      "model_module_version": "2.0.0",
      "model_name": "FloatProgressModel",
      "state": {
       "bar_style": "success",
       "layout": "IPY_MODEL_325c01a021884023a48854b45400e285",
       "max": 1,
       "style": "IPY_MODEL_3f4bb25d1cb2488e9790bf5101183eb3",
       "value": 1
      }
     },
     "0b132908c7cb4619b45c9643247ae7c2": {
      "model_module": "@jupyter-widgets/controls",
      "model_module_version": "2.0.0",
      "model_name": "HTMLModel",
      "state": {
       "layout": "IPY_MODEL_e7eff9c147e24c009788d159acb69cc4",
       "style": "IPY_MODEL_aa7559efc8864b9d841de1c86b515171",
       "value": "Fetching file...: "
      }
     },
     "0b73ba5b02274df3adc53f2d42ada59d": {
      "model_module": "@jupyter-widgets/controls",
      "model_module_version": "2.0.0",
      "model_name": "FloatProgressModel",
      "state": {
       "bar_style": "success",
       "layout": "IPY_MODEL_b4e89a598e9843b98f2e3958395188a8",
       "max": 1,
       "style": "IPY_MODEL_2ae5a993b3d94dcb9b09f743f548ad29",
       "value": 1
      }
     },
     "0be422bcf82d43878fd4927bf5b3b733": {
      "model_module": "@jupyter-widgets/controls",
      "model_module_version": "2.0.0",
      "model_name": "HTMLStyleModel",
      "state": {
       "description_width": "",
       "font_size": null,
       "text_color": null
      }
     },
     "0e94396062374b1a9a71298aac8b87ea": {
      "model_module": "@jupyter-widgets/controls",
      "model_module_version": "2.0.0",
      "model_name": "HTMLModel",
      "state": {
       "layout": "IPY_MODEL_b6abbb37412b49389e072744bd361bea",
       "style": "IPY_MODEL_ace00029b2ba46b283e3749aafd24485",
       "value": "sbuser/SX3M: 100%"
      }
     },
     "102b55c21e6940cabbc9887c9bf1d2df": {
      "model_module": "@jupyter-widgets/base",
      "model_module_version": "2.0.0",
      "model_name": "LayoutModel",
      "state": {}
     },
     "10bc299aadeb4872b2641484ae1e0986": {
      "model_module": "@jupyter-widgets/controls",
      "model_module_version": "2.0.0",
      "model_name": "HTMLModel",
      "state": {
       "layout": "IPY_MODEL_804bb137dc8343c7b59e6a9c213a881c",
       "style": "IPY_MODEL_d64edb5274b644b3a440cf449b28d9d9",
       "value": "Fetching file...: "
      }
     },
     "10f51bda207542d389ccce9aff42ba3e": {
      "model_module": "@jupyter-widgets/controls",
      "model_module_version": "2.0.0",
      "model_name": "HBoxModel",
      "state": {
       "children": [
        "IPY_MODEL_0b132908c7cb4619b45c9643247ae7c2",
        "IPY_MODEL_c18d0fc693474614bfee7da039eef4d9",
        "IPY_MODEL_d18ecdcb5650401babc86ef75923d9c8"
       ],
       "layout": "IPY_MODEL_c951285796f04edb95fd5386928a0754"
      }
     },
     "10f732a72c97458d8f3c2865b8cdcc6e": {
      "model_module": "@jupyter-widgets/controls",
      "model_module_version": "2.0.0",
      "model_name": "ProgressStyleModel",
      "state": {
       "description_width": ""
      }
     },
     "114566ad953e4d708bf83015c0c788fe": {
      "model_module": "@jupyter-widgets/controls",
      "model_module_version": "2.0.0",
      "model_name": "FloatProgressModel",
      "state": {
       "bar_style": "success",
       "layout": "IPY_MODEL_912d626c62b64380b294ec4c044b5e73",
       "max": 1,
       "style": "IPY_MODEL_bb818d46a66a4542842bf1a6628e9ef5",
       "value": 1
      }
     },
     "1156935ea8104ed2ad52bd8023989922": {
      "model_module": "@jupyter-widgets/controls",
      "model_module_version": "2.0.0",
      "model_name": "HTMLStyleModel",
      "state": {
       "description_width": "",
       "font_size": null,
       "text_color": null
      }
     },
     "12c371f319ec46e9b05e5aab796f6011": {
      "model_module": "@jupyter-widgets/controls",
      "model_module_version": "2.0.0",
      "model_name": "HTMLModel",
      "state": {
       "layout": "IPY_MODEL_33d80992176d40e69d5a1c6c184dc75e",
       "style": "IPY_MODEL_17e81dc55c7447ee800c8114af41634e",
       "value": "Fetching file...: "
      }
     },
     "15d05a7881e940e39f8d9fb8e5603a7c": {
      "model_module": "@jupyter-widgets/base",
      "model_module_version": "2.0.0",
      "model_name": "LayoutModel",
      "state": {
       "width": "20px"
      }
     },
     "1684e1b5c1674649b00f91faa70468b1": {
      "model_module": "@jupyter-widgets/controls",
      "model_module_version": "2.0.0",
      "model_name": "HBoxModel",
      "state": {
       "children": [
        "IPY_MODEL_f17146cba96143d686c16dd0d434dafa",
        "IPY_MODEL_cf8d9344d5b442d48dcad3f8acb28c03",
        "IPY_MODEL_657bed4c792144e58241f6ab1ea985e2"
       ],
       "layout": "IPY_MODEL_c53ed42f67cc42abb7ee2c00a661413e"
      }
     },
     "170cf4e729e844739fdf945dfda02af5": {
      "model_module": "@jupyter-widgets/base",
      "model_module_version": "2.0.0",
      "model_name": "LayoutModel",
      "state": {}
     },
     "17212af3487b4c5882f9c2b6dd399c63": {
      "model_module": "@jupyter-widgets/base",
      "model_module_version": "2.0.0",
      "model_name": "LayoutModel",
      "state": {}
     },
     "1756155f1fa74e128ae83ed041fd4470": {
      "model_module": "@jupyter-widgets/controls",
      "model_module_version": "2.0.0",
      "model_name": "HTMLStyleModel",
      "state": {
       "description_width": "",
       "font_size": null,
       "text_color": null
      }
     },
     "17e81dc55c7447ee800c8114af41634e": {
      "model_module": "@jupyter-widgets/controls",
      "model_module_version": "2.0.0",
      "model_name": "HTMLStyleModel",
      "state": {
       "description_width": "",
       "font_size": null,
       "text_color": null
      }
     },
     "18c01b075b1246aabb99f44f7e69f47e": {
      "model_module": "@jupyter-widgets/controls",
      "model_module_version": "2.0.0",
      "model_name": "FloatProgressModel",
      "state": {
       "bar_style": "success",
       "layout": "IPY_MODEL_15d05a7881e940e39f8d9fb8e5603a7c",
       "max": 1,
       "style": "IPY_MODEL_497c6b10605747b3beea9f1cdb9faed1",
       "value": 1
      }
     },
     "190539b288ff429eb9a31f274fd38dde": {
      "model_module": "@jupyter-widgets/controls",
      "model_module_version": "2.0.0",
      "model_name": "HBoxModel",
      "state": {
       "children": [
        "IPY_MODEL_70c7ef243a464b178bdcf91f71e20f04",
        "IPY_MODEL_907b7ee5828c489da34afe4c988cab6a",
        "IPY_MODEL_07ed4f03c3d947e3b26330808dd6870c"
       ],
       "layout": "IPY_MODEL_e249fa62bdb5459fb5b226c8c13c649b"
      }
     },
     "198c1fc560bd4a03b7e9c40e81bb3440": {
      "model_module": "@jupyter-widgets/controls",
      "model_module_version": "2.0.0",
      "model_name": "HTMLStyleModel",
      "state": {
       "description_width": "",
       "font_size": null,
       "text_color": null
      }
     },
     "19bc562308044aa5931520f545b23da6": {
      "model_module": "@jupyter-widgets/controls",
      "model_module_version": "2.0.0",
      "model_name": "HBoxModel",
      "state": {
       "children": [
        "IPY_MODEL_0e94396062374b1a9a71298aac8b87ea",
        "IPY_MODEL_36fa94c93df04004b07a6eff83991e46",
        "IPY_MODEL_1aa1fbcf9d264ba8b1aca289a010c42b"
       ],
       "layout": "IPY_MODEL_af331136e11c424cb928ef8cce595c16"
      }
     },
     "1aa1fbcf9d264ba8b1aca289a010c42b": {
      "model_module": "@jupyter-widgets/controls",
      "model_module_version": "2.0.0",
      "model_name": "HTMLModel",
      "state": {
       "layout": "IPY_MODEL_517de4aec53b4847952fd147f438f751",
       "style": "IPY_MODEL_c1750d5274c243f593219a79085729f4",
       "value": " 1/1 [11:03&lt;00:00, 663.61s/it]"
      }
     },
     "1b1cbf16dd5547d39b97edc91313c79b": {
      "model_module": "@jupyter-widgets/controls",
      "model_module_version": "2.0.0",
      "model_name": "FloatProgressModel",
      "state": {
       "bar_style": "success",
       "layout": "IPY_MODEL_67a09239740d4c3eb60ce1dfdb701c48",
       "max": 1,
       "style": "IPY_MODEL_78f678feb0d14e68840cf3b96fce6010",
       "value": 1
      }
     },
     "1baa6881b3274a53adaec7fca251f1e0": {
      "model_module": "@jupyter-widgets/controls",
      "model_module_version": "2.0.0",
      "model_name": "FloatProgressModel",
      "state": {
       "bar_style": "success",
       "layout": "IPY_MODEL_b8c6fb46906941359c6463dc76b7c792",
       "max": 1,
       "style": "IPY_MODEL_b62f5bea9bf444c3b61b6ff84f321d44",
       "value": 1
      }
     },
     "1bb638f3629e4883884624fcae5fab00": {
      "model_module": "@jupyter-widgets/controls",
      "model_module_version": "2.0.0",
      "model_name": "HTMLModel",
      "state": {
       "layout": "IPY_MODEL_6a6b77818d174d61ac52302a58c94d17",
       "style": "IPY_MODEL_f1851fa966da427f82dcc938bf56cc7d",
       "value": "Fetching file...: "
      }
     },
     "1bfb543d2f8f4ac5aca4b855da0704cb": {
      "model_module": "@jupyter-widgets/controls",
      "model_module_version": "2.0.0",
      "model_name": "ProgressStyleModel",
      "state": {
       "description_width": ""
      }
     },
     "2062bd87e0644fdcb540bdd21fe1cc5c": {
      "model_module": "@jupyter-widgets/controls",
      "model_module_version": "2.0.0",
      "model_name": "HTMLModel",
      "state": {
       "layout": "IPY_MODEL_8b49d22781994db69c8f9b7e6b9051b1",
       "style": "IPY_MODEL_f3937da021ae483485773cf8bc624f59",
       "value": " 3674/3674 [00:00&lt;00:00, 6272.05/s]"
      }
     },
     "20c1a0c919fa4f049e8ec1127a41c894": {
      "model_module": "@jupyter-widgets/controls",
      "model_module_version": "2.0.0",
      "model_name": "ProgressStyleModel",
      "state": {
       "description_width": ""
      }
     },
     "22808e82763d4de1a20a56720f8a8a10": {
      "model_module": "@jupyter-widgets/controls",
      "model_module_version": "2.0.0",
      "model_name": "ProgressStyleModel",
      "state": {
       "description_width": ""
      }
     },
     "229b08d2b9d84fc5a93a3ccf8ee639d1": {
      "model_module": "@jupyter-widgets/base",
      "model_module_version": "2.0.0",
      "model_name": "LayoutModel",
      "state": {}
     },
     "2477828247a54a95ac0a8a578e602dc4": {
      "model_module": "@jupyter-widgets/controls",
      "model_module_version": "2.0.0",
      "model_name": "ProgressStyleModel",
      "state": {
       "description_width": ""
      }
     },
     "24bbb91ae25942f2910b87f04687b0ac": {
      "model_module": "@jupyter-widgets/base",
      "model_module_version": "2.0.0",
      "model_name": "LayoutModel",
      "state": {}
     },
     "25f97972daf8453db787df8af80e2d4a": {
      "model_module": "@jupyter-widgets/base",
      "model_module_version": "2.0.0",
      "model_name": "LayoutModel",
      "state": {}
     },
     "266badbc951d44d693cd9f098c85520b": {
      "model_module": "@jupyter-widgets/base",
      "model_module_version": "2.0.0",
      "model_name": "LayoutModel",
      "state": {}
     },
     "27ba80f8857e4465aaa048bdd1509053": {
      "model_module": "@jupyter-widgets/controls",
      "model_module_version": "2.0.0",
      "model_name": "HBoxModel",
      "state": {
       "children": [
        "IPY_MODEL_d7053cfddfe54555b11b6ab61d9c8df9",
        "IPY_MODEL_3ec7489881ad486fb7dca28cfa52a6f9",
        "IPY_MODEL_f75be913928d4550bbf6efc9a787834f"
       ],
       "layout": "IPY_MODEL_17212af3487b4c5882f9c2b6dd399c63"
      }
     },
     "2a06d5868af14501b8a9351d6a283873": {
      "model_module": "@jupyter-widgets/controls",
      "model_module_version": "2.0.0",
      "model_name": "HTMLStyleModel",
      "state": {
       "description_width": "",
       "font_size": null,
       "text_color": null
      }
     },
     "2ae5a993b3d94dcb9b09f743f548ad29": {
      "model_module": "@jupyter-widgets/controls",
      "model_module_version": "2.0.0",
      "model_name": "ProgressStyleModel",
      "state": {
       "description_width": ""
      }
     },
     "2b4badcc05e94bfcab39f8a0e755d116": {
      "model_module": "@jupyter-widgets/controls",
      "model_module_version": "2.0.0",
      "model_name": "ProgressStyleModel",
      "state": {
       "description_width": ""
      }
     },
     "2b6604300e4143b591d701a995987dd8": {
      "model_module": "@jupyter-widgets/controls",
      "model_module_version": "2.0.0",
      "model_name": "HTMLModel",
      "state": {
       "layout": "IPY_MODEL_b8784cae08ae499d89c9251f78713891",
       "style": "IPY_MODEL_c1b6e0bbb0394c459c193ca1207114f1",
       "value": "Fetching file...: "
      }
     },
     "2c9b8d7bc22444a29635a786ea0f4957": {
      "model_module": "@jupyter-widgets/controls",
      "model_module_version": "2.0.0",
      "model_name": "HTMLModel",
      "state": {
       "layout": "IPY_MODEL_bfdd55a0724e43d3ad010c5e49b91714",
       "style": "IPY_MODEL_5fd5c925c1bd4d01ac3c7506f53733e2",
       "value": " 3636046/? [00:00&lt;00:00, 17038873.96/s]"
      }
     },
     "2fbead999bda423f877f9e155fd93a51": {
      "model_module": "@jupyter-widgets/base",
      "model_module_version": "2.0.0",
      "model_name": "LayoutModel",
      "state": {}
     },
     "3030c018604846d7908d34cd856d847d": {
      "model_module": "@jupyter-widgets/controls",
      "model_module_version": "2.0.0",
      "model_name": "ProgressStyleModel",
      "state": {
       "description_width": ""
      }
     },
     "30a52876d29d46fc8dfb92fea406a559": {
      "model_module": "@jupyter-widgets/base",
      "model_module_version": "2.0.0",
      "model_name": "LayoutModel",
      "state": {}
     },
     "31549fea49dd441784981005d22f8ea4": {
      "model_module": "@jupyter-widgets/controls",
      "model_module_version": "2.0.0",
      "model_name": "FloatProgressModel",
      "state": {
       "bar_style": "success",
       "layout": "IPY_MODEL_9cb1003ff7934bcebf24671da67c4125",
       "max": 1,
       "style": "IPY_MODEL_77b8c2c487064b09b6af74b588b35c1d",
       "value": 1
      }
     },
     "325c01a021884023a48854b45400e285": {
      "model_module": "@jupyter-widgets/base",
      "model_module_version": "2.0.0",
      "model_name": "LayoutModel",
      "state": {
       "width": "20px"
      }
     },
     "33d80992176d40e69d5a1c6c184dc75e": {
      "model_module": "@jupyter-widgets/base",
      "model_module_version": "2.0.0",
      "model_name": "LayoutModel",
      "state": {}
     },
     "34235adb81f34a8f8177b2b165bf6b62": {
      "model_module": "@jupyter-widgets/base",
      "model_module_version": "2.0.0",
      "model_name": "LayoutModel",
      "state": {}
     },
     "343c0bfb8ad84fdaa8ced72849256879": {
      "model_module": "@jupyter-widgets/controls",
      "model_module_version": "2.0.0",
      "model_name": "HTMLStyleModel",
      "state": {
       "description_width": "",
       "font_size": null,
       "text_color": null
      }
     },
     "36fa94c93df04004b07a6eff83991e46": {
      "model_module": "@jupyter-widgets/controls",
      "model_module_version": "2.0.0",
      "model_name": "FloatProgressModel",
      "state": {
       "bar_style": "success",
       "layout": "IPY_MODEL_57c13eb472234f13a24554807c41dd1e",
       "max": 1,
       "style": "IPY_MODEL_20c1a0c919fa4f049e8ec1127a41c894",
       "value": 1
      }
     },
     "38511d1041f44c84a1a93e3dbd610178": {
      "model_module": "@jupyter-widgets/base",
      "model_module_version": "2.0.0",
      "model_name": "LayoutModel",
      "state": {}
     },
     "394eecd8885443ef8b373775999cb44d": {
      "model_module": "@jupyter-widgets/base",
      "model_module_version": "2.0.0",
      "model_name": "LayoutModel",
      "state": {}
     },
     "3a15274ed86e479a83d7ca58cc55327f": {
      "model_module": "@jupyter-widgets/base",
      "model_module_version": "2.0.0",
      "model_name": "LayoutModel",
      "state": {}
     },
     "3b18449a40204afc8414c230f0e884dd": {
      "model_module": "@jupyter-widgets/base",
      "model_module_version": "2.0.0",
      "model_name": "LayoutModel",
      "state": {}
     },
     "3b3373101242402bbcbf24d49acfe7f7": {
      "model_module": "@jupyter-widgets/base",
      "model_module_version": "2.0.0",
      "model_name": "LayoutModel",
      "state": {
       "width": "20px"
      }
     },
     "3b4e24a95a9a4b279cdbbed6468aabe4": {
      "model_module": "@jupyter-widgets/controls",
      "model_module_version": "2.0.0",
      "model_name": "HTMLStyleModel",
      "state": {
       "description_width": "",
       "font_size": null,
       "text_color": null
      }
     },
     "3ba76b96bcf94b2fb38acf17cdd09586": {
      "model_module": "@jupyter-widgets/controls",
      "model_module_version": "2.0.0",
      "model_name": "HTMLModel",
      "state": {
       "layout": "IPY_MODEL_bbfdeedf06604cf09048f0c67a49e432",
       "style": "IPY_MODEL_0998ef4af0b54a3d8dcd400d4e851a2b",
       "value": "Fetching file...: "
      }
     },
     "3ec7489881ad486fb7dca28cfa52a6f9": {
      "model_module": "@jupyter-widgets/controls",
      "model_module_version": "2.0.0",
      "model_name": "FloatProgressModel",
      "state": {
       "bar_style": "success",
       "layout": "IPY_MODEL_3b3373101242402bbcbf24d49acfe7f7",
       "max": 1,
       "style": "IPY_MODEL_cfc9c53c517d40faa1cfaeb3477a7e7a",
       "value": 1
      }
     },
     "3f4bb25d1cb2488e9790bf5101183eb3": {
      "model_module": "@jupyter-widgets/controls",
      "model_module_version": "2.0.0",
      "model_name": "ProgressStyleModel",
      "state": {
       "description_width": ""
      }
     },
     "3f9caca087e8427588b9ab250c393210": {
      "model_module": "@jupyter-widgets/controls",
      "model_module_version": "2.0.0",
      "model_name": "HTMLModel",
      "state": {
       "layout": "IPY_MODEL_f25712e8fd8a45e6bcfba2fd92b28295",
       "style": "IPY_MODEL_b070c119c2524953824ec99cc944beb4",
       "value": "Total progress: 100%"
      }
     },
     "40ab060d868c4ca38a136963f144d444": {
      "model_module": "@jupyter-widgets/controls",
      "model_module_version": "2.0.0",
      "model_name": "HTMLModel",
      "state": {
       "layout": "IPY_MODEL_67fd626ba9144ada9bc99cd284b96374",
       "style": "IPY_MODEL_2a06d5868af14501b8a9351d6a283873",
       "value": "Fetching monitoring/8c08bc31/memory values: 100%"
      }
     },
     "40ff2b59d3894c27aa1b6c4a17c32a06": {
      "model_module": "@jupyter-widgets/base",
      "model_module_version": "2.0.0",
      "model_name": "LayoutModel",
      "state": {}
     },
     "4392356338194495af9ecc13c33f2261": {
      "model_module": "@jupyter-widgets/controls",
      "model_module_version": "2.0.0",
      "model_name": "ProgressStyleModel",
      "state": {
       "description_width": ""
      }
     },
     "44d2eaee5a4b41a58f4574e1446b6ba6": {
      "model_module": "@jupyter-widgets/controls",
      "model_module_version": "2.0.0",
      "model_name": "HBoxModel",
      "state": {
       "children": [
        "IPY_MODEL_2b6604300e4143b591d701a995987dd8",
        "IPY_MODEL_dd9e3e7206be4757833b5faabcc275fb",
        "IPY_MODEL_785162838325401cb48ce699a87d51a1"
       ],
       "layout": "IPY_MODEL_e7e641dae6564849aa8d125a8a904990"
      }
     },
     "45182605901d4d3cb19da28c02e10f50": {
      "model_module": "@jupyter-widgets/base",
      "model_module_version": "2.0.0",
      "model_name": "LayoutModel",
      "state": {}
     },
     "4541e794b2a2414eb9817b45037dbc73": {
      "model_module": "@jupyter-widgets/base",
      "model_module_version": "2.0.0",
      "model_name": "LayoutModel",
      "state": {}
     },
     "4562d9d4fabf498f9532de9ae2544f80": {
      "model_module": "@jupyter-widgets/controls",
      "model_module_version": "2.0.0",
      "model_name": "HTMLStyleModel",
      "state": {
       "description_width": "",
       "font_size": null,
       "text_color": null
      }
     },
     "457a614d3d1c4213b71a1422d03331eb": {
      "model_module": "@jupyter-widgets/controls",
      "model_module_version": "2.0.0",
      "model_name": "HTMLStyleModel",
      "state": {
       "description_width": "",
       "font_size": null,
       "text_color": null
      }
     },
     "468b0d5ddbd74efa905d9c95a865b3ef": {
      "model_module": "@jupyter-widgets/base",
      "model_module_version": "2.0.0",
      "model_name": "LayoutModel",
      "state": {}
     },
     "46a09e2203e4456eb5813faec29e05da": {
      "model_module": "@jupyter-widgets/controls",
      "model_module_version": "2.0.0",
      "model_name": "ProgressStyleModel",
      "state": {
       "description_width": ""
      }
     },
     "4833bbf8109146e481ca709c3d4b3ec0": {
      "model_module": "@jupyter-widgets/controls",
      "model_module_version": "2.0.0",
      "model_name": "HTMLStyleModel",
      "state": {
       "description_width": "",
       "font_size": null,
       "text_color": null
      }
     },
     "497c6b10605747b3beea9f1cdb9faed1": {
      "model_module": "@jupyter-widgets/controls",
      "model_module_version": "2.0.0",
      "model_name": "ProgressStyleModel",
      "state": {
       "description_width": ""
      }
     },
     "4aad5dc962f7473a9a4e9187039e369f": {
      "model_module": "@jupyter-widgets/base",
      "model_module_version": "2.0.0",
      "model_name": "LayoutModel",
      "state": {}
     },
     "4b03834db15d45d5856cad2e66bb58eb": {
      "model_module": "@jupyter-widgets/controls",
      "model_module_version": "2.0.0",
      "model_name": "HTMLStyleModel",
      "state": {
       "description_width": "",
       "font_size": null,
       "text_color": null
      }
     },
     "4b1315fc37714b17b1b18b0c2fbf3e10": {
      "model_module": "@jupyter-widgets/controls",
      "model_module_version": "2.0.0",
      "model_name": "HTMLModel",
      "state": {
       "layout": "IPY_MODEL_c347c3997ce74d21b8e1447a43464e7f",
       "style": "IPY_MODEL_5a8ab6adb9454082a478adc92fe7c071",
       "value": "Fetching file...: "
      }
     },
     "4b6d96fefa714749a649e641cf04e992": {
      "model_module": "@jupyter-widgets/base",
      "model_module_version": "2.0.0",
      "model_name": "LayoutModel",
      "state": {}
     },
     "4c115706d2024577ab0c85b5455451c0": {
      "model_module": "@jupyter-widgets/controls",
      "model_module_version": "2.0.0",
      "model_name": "ProgressStyleModel",
      "state": {
       "description_width": ""
      }
     },
     "4c9f69b5477f436b909631e5e5abafae": {
      "model_module": "@jupyter-widgets/base",
      "model_module_version": "2.0.0",
      "model_name": "LayoutModel",
      "state": {}
     },
     "4dd65066edd24c22a1c97b4e9e275d63": {
      "model_module": "@jupyter-widgets/controls",
      "model_module_version": "2.0.0",
      "model_name": "ProgressStyleModel",
      "state": {
       "description_width": ""
      }
     },
     "4f90506a37ba43288e8271715138cfd9": {
      "model_module": "@jupyter-widgets/controls",
      "model_module_version": "2.0.0",
      "model_name": "HBoxModel",
      "state": {
       "children": [
        "IPY_MODEL_10bc299aadeb4872b2641484ae1e0986",
        "IPY_MODEL_027fadf99c7746299dc90f4523b9d2e1",
        "IPY_MODEL_9de66be27a4a41cb9be8347c574501b8"
       ],
       "layout": "IPY_MODEL_6990f7c716b6465597e2b78cc09b5acd"
      }
     },
     "4ff2df69d54343a298446e9a67b64b51": {
      "model_module": "@jupyter-widgets/base",
      "model_module_version": "2.0.0",
      "model_name": "LayoutModel",
      "state": {
       "width": "20px"
      }
     },
     "5048060070db482f941345ca39d47f4e": {
      "model_module": "@jupyter-widgets/controls",
      "model_module_version": "2.0.0",
      "model_name": "FloatProgressModel",
      "state": {
       "bar_style": "success",
       "layout": "IPY_MODEL_efd264c97c3a48a2aebab8a4d3071132",
       "max": 1,
       "style": "IPY_MODEL_4dd65066edd24c22a1c97b4e9e275d63",
       "value": 1
      }
     },
     "517de4aec53b4847952fd147f438f751": {
      "model_module": "@jupyter-widgets/base",
      "model_module_version": "2.0.0",
      "model_name": "LayoutModel",
      "state": {}
     },
     "51b2b837933c48e99ca953fce014198f": {
      "model_module": "@jupyter-widgets/controls",
      "model_module_version": "2.0.0",
      "model_name": "HTMLStyleModel",
      "state": {
       "description_width": "",
       "font_size": null,
       "text_color": null
      }
     },
     "52e239c1041442578fa8059b453e46f8": {
      "model_module": "@jupyter-widgets/controls",
      "model_module_version": "2.0.0",
      "model_name": "HBoxModel",
      "state": {
       "children": [
        "IPY_MODEL_89a6810b86b2413ab5a7d69ddd53b62d",
        "IPY_MODEL_114566ad953e4d708bf83015c0c788fe",
        "IPY_MODEL_7e709c6a538441ba886e5f633b5e99d9"
       ],
       "layout": "IPY_MODEL_99b8311e26e24d079c23d3ca60125380"
      }
     },
     "55674f87a3914a739dc2afdafa6d8495": {
      "model_module": "@jupyter-widgets/controls",
      "model_module_version": "2.0.0",
      "model_name": "HTMLModel",
      "state": {
       "layout": "IPY_MODEL_102b55c21e6940cabbc9887c9bf1d2df",
       "style": "IPY_MODEL_566b317df3004fcf87e6951ee72ae353",
       "value": " 3608582/? [00:00&lt;00:00, 16219072.73/s]"
      }
     },
     "55af3bde1bb249af974f987ecce3eca3": {
      "model_module": "@jupyter-widgets/controls",
      "model_module_version": "2.0.0",
      "model_name": "HTMLStyleModel",
      "state": {
       "description_width": "",
       "font_size": null,
       "text_color": null
      }
     },
     "55c44341239e439a973b06531fd4112d": {
      "model_module": "@jupyter-widgets/controls",
      "model_module_version": "2.0.0",
      "model_name": "HBoxModel",
      "state": {
       "children": [
        "IPY_MODEL_ab9f3e4ef57c4be391103b38f03eb18e",
        "IPY_MODEL_0aada80bd6614396b67c0a70fe9b0cfe",
        "IPY_MODEL_ccdfa059c4354904af0a924380e5f1d1"
       ],
       "layout": "IPY_MODEL_4c9f69b5477f436b909631e5e5abafae"
      }
     },
     "55f0fb66a7f1460a80636e4cf082a7b2": {
      "model_module": "@jupyter-widgets/base",
      "model_module_version": "2.0.0",
      "model_name": "LayoutModel",
      "state": {}
     },
     "55fade2611de4f5fbff645e8b03f975f": {
      "model_module": "@jupyter-widgets/base",
      "model_module_version": "2.0.0",
      "model_name": "LayoutModel",
      "state": {
       "width": "20px"
      }
     },
     "566b317df3004fcf87e6951ee72ae353": {
      "model_module": "@jupyter-widgets/controls",
      "model_module_version": "2.0.0",
      "model_name": "HTMLStyleModel",
      "state": {
       "description_width": "",
       "font_size": null,
       "text_color": null
      }
     },
     "56f95b36b93d45cc85b287dc6c373bcb": {
      "model_module": "@jupyter-widgets/controls",
      "model_module_version": "2.0.0",
      "model_name": "HBoxModel",
      "state": {
       "children": [
        "IPY_MODEL_068cecbdccd746f586c748f5bab6c927",
        "IPY_MODEL_c74a03a2c826464397d217487bacd44c",
        "IPY_MODEL_f0d3c423b8c7467bb95d790ada9bbd40"
       ],
       "layout": "IPY_MODEL_92faf8905d3a452fb2c6d77bd1fc0da5"
      }
     },
     "57c13eb472234f13a24554807c41dd1e": {
      "model_module": "@jupyter-widgets/base",
      "model_module_version": "2.0.0",
      "model_name": "LayoutModel",
      "state": {}
     },
     "57eced484e074e0f996167060e9afcce": {
      "model_module": "@jupyter-widgets/base",
      "model_module_version": "2.0.0",
      "model_name": "LayoutModel",
      "state": {}
     },
     "58b665a7465347ce813eb7912654daf4": {
      "model_module": "@jupyter-widgets/controls",
      "model_module_version": "2.0.0",
      "model_name": "ProgressStyleModel",
      "state": {
       "description_width": ""
      }
     },
     "5909996d6a914c49a6fcb19890652e54": {
      "model_module": "@jupyter-widgets/controls",
      "model_module_version": "2.0.0",
      "model_name": "HTMLStyleModel",
      "state": {
       "description_width": "",
       "font_size": null,
       "text_color": null
      }
     },
     "5911cfc6c8394f378abd34de23f9bf5d": {
      "model_module": "@jupyter-widgets/controls",
      "model_module_version": "2.0.0",
      "model_name": "FloatProgressModel",
      "state": {
       "bar_style": "success",
       "layout": "IPY_MODEL_55fade2611de4f5fbff645e8b03f975f",
       "max": 1,
       "style": "IPY_MODEL_3030c018604846d7908d34cd856d847d",
       "value": 1
      }
     },
     "599fa1eb22de425cba433749920e5629": {
      "model_module": "@jupyter-widgets/controls",
      "model_module_version": "2.0.0",
      "model_name": "HTMLStyleModel",
      "state": {
       "description_width": "",
       "font_size": null,
       "text_color": null
      }
     },
     "5a8ab6adb9454082a478adc92fe7c071": {
      "model_module": "@jupyter-widgets/controls",
      "model_module_version": "2.0.0",
      "model_name": "HTMLStyleModel",
      "state": {
       "description_width": "",
       "font_size": null,
       "text_color": null
      }
     },
     "5c2bae5c535b4718809468fad62e90c5": {
      "model_module": "@jupyter-widgets/controls",
      "model_module_version": "2.0.0",
      "model_name": "HTMLModel",
      "state": {
       "layout": "IPY_MODEL_d64a763b02734359b4ca18640a21e8d6",
       "style": "IPY_MODEL_9d5d7624e59b436bb33e4d5af69b66b3",
       "value": "Fetching monitoring/8c08bc31/stdout values: 100%"
      }
     },
     "5cbad3fa8bb743f3b9c9622c18be74a2": {
      "model_module": "@jupyter-widgets/controls",
      "model_module_version": "2.0.0",
      "model_name": "HTMLStyleModel",
      "state": {
       "description_width": "",
       "font_size": null,
       "text_color": null
      }
     },
     "5eaabe2b931e4ac8a0f57d54247abce8": {
      "model_module": "@jupyter-widgets/controls",
      "model_module_version": "2.0.0",
      "model_name": "HTMLModel",
      "state": {
       "layout": "IPY_MODEL_7ac6d6ae0bdc4a72a092d3c0ecd7f0f0",
       "style": "IPY_MODEL_bdd757cdf95a4cf9820badfe2056f656",
       "value": " 29248/29248 [00:07&lt;00:00, 3434.72/s]"
      }
     },
     "5eb6602a9f0f4f16aedf48e2b9d9a481": {
      "model_module": "@jupyter-widgets/base",
      "model_module_version": "2.0.0",
      "model_name": "LayoutModel",
      "state": {
       "width": "20px"
      }
     },
     "5fd5c925c1bd4d01ac3c7506f53733e2": {
      "model_module": "@jupyter-widgets/controls",
      "model_module_version": "2.0.0",
      "model_name": "HTMLStyleModel",
      "state": {
       "description_width": "",
       "font_size": null,
       "text_color": null
      }
     },
     "6076dd24407d452abc188f42ee26c9a8": {
      "model_module": "@jupyter-widgets/base",
      "model_module_version": "2.0.0",
      "model_name": "LayoutModel",
      "state": {
       "width": "20px"
      }
     },
     "6100b74dd260441e9ad871a965895747": {
      "model_module": "@jupyter-widgets/controls",
      "model_module_version": "2.0.0",
      "model_name": "HTMLStyleModel",
      "state": {
       "description_width": "",
       "font_size": null,
       "text_color": null
      }
     },
     "6147515a1631445196287f343958c01f": {
      "model_module": "@jupyter-widgets/controls",
      "model_module_version": "2.0.0",
      "model_name": "HTMLModel",
      "state": {
       "layout": "IPY_MODEL_f74eb179dce940d1b93d2c7fba36c697",
       "style": "IPY_MODEL_bc7faab731dc4634a136e577ae537df2",
       "value": " 3608511/? [00:00&lt;00:00, 15500723.35/s]"
      }
     },
     "632fa8bc0f1e4454890fb46d7e75b78a": {
      "model_module": "@jupyter-widgets/base",
      "model_module_version": "2.0.0",
      "model_name": "LayoutModel",
      "state": {
       "width": "20px"
      }
     },
     "650318ca577c4327932d011b765b16b7": {
      "model_module": "@jupyter-widgets/controls",
      "model_module_version": "2.0.0",
      "model_name": "HTMLStyleModel",
      "state": {
       "description_width": "",
       "font_size": null,
       "text_color": null
      }
     },
     "657bed4c792144e58241f6ab1ea985e2": {
      "model_module": "@jupyter-widgets/controls",
      "model_module_version": "2.0.0",
      "model_name": "HTMLModel",
      "state": {
       "layout": "IPY_MODEL_3a15274ed86e479a83d7ca58cc55327f",
       "style": "IPY_MODEL_198c1fc560bd4a03b7e9c40e81bb3440",
       "value": " 3970576/? [00:00&lt;00:00, 10497915.30/s]"
      }
     },
     "65f752af7d364e05b5a0c413fac439ba": {
      "model_module": "@jupyter-widgets/base",
      "model_module_version": "2.0.0",
      "model_name": "LayoutModel",
      "state": {}
     },
     "66e66d02c9d74bacb64854d53f911889": {
      "model_module": "@jupyter-widgets/base",
      "model_module_version": "2.0.0",
      "model_name": "LayoutModel",
      "state": {}
     },
     "67070376630f44469a68ff307dcfc450": {
      "model_module": "@jupyter-widgets/controls",
      "model_module_version": "2.0.0",
      "model_name": "HTMLModel",
      "state": {
       "layout": "IPY_MODEL_72f93bffb2be4aa0a269d96605345e53",
       "style": "IPY_MODEL_b3e2a06f0cf44ed2be1946352e103a13",
       "value": "Fetching file...: "
      }
     },
     "676c726099924ec5b2676cfc5d1bc502": {
      "model_module": "@jupyter-widgets/base",
      "model_module_version": "2.0.0",
      "model_name": "LayoutModel",
      "state": {
       "width": "20px"
      }
     },
     "67a09239740d4c3eb60ce1dfdb701c48": {
      "model_module": "@jupyter-widgets/base",
      "model_module_version": "2.0.0",
      "model_name": "LayoutModel",
      "state": {
       "width": "20px"
      }
     },
     "67f6bdfb830f49389a3ae2e33bf7108f": {
      "model_module": "@jupyter-widgets/base",
      "model_module_version": "2.0.0",
      "model_name": "LayoutModel",
      "state": {}
     },
     "67fd626ba9144ada9bc99cd284b96374": {
      "model_module": "@jupyter-widgets/base",
      "model_module_version": "2.0.0",
      "model_name": "LayoutModel",
      "state": {}
     },
     "68b2f54abbf144499e03c06a768337a3": {
      "model_module": "@jupyter-widgets/controls",
      "model_module_version": "2.0.0",
      "model_name": "HBoxModel",
      "state": {
       "children": [
        "IPY_MODEL_3ba76b96bcf94b2fb38acf17cdd09586",
        "IPY_MODEL_8d7bb783968e48b18ff565564c14be3e",
        "IPY_MODEL_cb3562370fd046bebbeeab535ca3772b"
       ],
       "layout": "IPY_MODEL_45182605901d4d3cb19da28c02e10f50"
      }
     },
     "6990f7c716b6465597e2b78cc09b5acd": {
      "model_module": "@jupyter-widgets/base",
      "model_module_version": "2.0.0",
      "model_name": "LayoutModel",
      "state": {}
     },
     "6a6b77818d174d61ac52302a58c94d17": {
      "model_module": "@jupyter-widgets/base",
      "model_module_version": "2.0.0",
      "model_name": "LayoutModel",
      "state": {}
     },
     "6b18942bf4c44f62a51cab25414e487d": {
      "model_module": "@jupyter-widgets/controls",
      "model_module_version": "2.0.0",
      "model_name": "HTMLModel",
      "state": {
       "layout": "IPY_MODEL_d6c82b4dd55f4c2f9c47908442de4a2f",
       "style": "IPY_MODEL_1156935ea8104ed2ad52bd8023989922",
       "value": "Fetching file...: "
      }
     },
     "6f3b4a2d28054fbe9ec860ee622b97f6": {
      "model_module": "@jupyter-widgets/controls",
      "model_module_version": "2.0.0",
      "model_name": "HTMLStyleModel",
      "state": {
       "description_width": "",
       "font_size": null,
       "text_color": null
      }
     },
     "6f692d574d92406a9157c2bd321acb2e": {
      "model_module": "@jupyter-widgets/base",
      "model_module_version": "2.0.0",
      "model_name": "LayoutModel",
      "state": {}
     },
     "6fb5011dde864111a86400e3204d258b": {
      "model_module": "@jupyter-widgets/base",
      "model_module_version": "2.0.0",
      "model_name": "LayoutModel",
      "state": {}
     },
     "6fcb944692c8464899cc5086b0cf8b99": {
      "model_module": "@jupyter-widgets/controls",
      "model_module_version": "2.0.0",
      "model_name": "ProgressStyleModel",
      "state": {
       "description_width": ""
      }
     },
     "6ffa1593a0d742c2bea30c4a1b23b37b": {
      "model_module": "@jupyter-widgets/controls",
      "model_module_version": "2.0.0",
      "model_name": "HTMLModel",
      "state": {
       "layout": "IPY_MODEL_cdd1c6ac44e34012a49bffc6b68747b1",
       "style": "IPY_MODEL_4b03834db15d45d5856cad2e66bb58eb",
       "value": "Fetching file...: "
      }
     },
     "70c7ef243a464b178bdcf91f71e20f04": {
      "model_module": "@jupyter-widgets/controls",
      "model_module_version": "2.0.0",
      "model_name": "HTMLModel",
      "state": {
       "layout": "IPY_MODEL_8dc3caa8970d4bf2842929de65bdcaab",
       "style": "IPY_MODEL_650318ca577c4327932d011b765b16b7",
       "value": "Fetching file...: "
      }
     },
     "711d045b8dc248efa3df1d19c59de21f": {
      "model_module": "@jupyter-widgets/base",
      "model_module_version": "2.0.0",
      "model_name": "LayoutModel",
      "state": {}
     },
     "71cc53b8f161463891faf3131504b06a": {
      "model_module": "@jupyter-widgets/controls",
      "model_module_version": "2.0.0",
      "model_name": "ProgressStyleModel",
      "state": {
       "description_width": ""
      }
     },
     "72f93bffb2be4aa0a269d96605345e53": {
      "model_module": "@jupyter-widgets/base",
      "model_module_version": "2.0.0",
      "model_name": "LayoutModel",
      "state": {}
     },
     "732d4ff823e140b1a24352da4afef9b5": {
      "model_module": "@jupyter-widgets/controls",
      "model_module_version": "2.0.0",
      "model_name": "HTMLStyleModel",
      "state": {
       "description_width": "",
       "font_size": null,
       "text_color": null
      }
     },
     "736a584e21e04d19b5b667623eafbd2f": {
      "model_module": "@jupyter-widgets/base",
      "model_module_version": "2.0.0",
      "model_name": "LayoutModel",
      "state": {
       "width": "20px"
      }
     },
     "7402a3df74384bbcac7e5e878cdba6e9": {
      "model_module": "@jupyter-widgets/base",
      "model_module_version": "2.0.0",
      "model_name": "LayoutModel",
      "state": {
       "width": "20px"
      }
     },
     "769feebe56e7415f9bb238e684dd084c": {
      "model_module": "@jupyter-widgets/controls",
      "model_module_version": "2.0.0",
      "model_name": "HTMLStyleModel",
      "state": {
       "description_width": "",
       "font_size": null,
       "text_color": null
      }
     },
     "77b8c2c487064b09b6af74b588b35c1d": {
      "model_module": "@jupyter-widgets/controls",
      "model_module_version": "2.0.0",
      "model_name": "ProgressStyleModel",
      "state": {
       "description_width": ""
      }
     },
     "785162838325401cb48ce699a87d51a1": {
      "model_module": "@jupyter-widgets/controls",
      "model_module_version": "2.0.0",
      "model_name": "HTMLModel",
      "state": {
       "layout": "IPY_MODEL_b68d9c686dea46108453bd0c5e08f509",
       "style": "IPY_MODEL_b3ce873f64a84e9087185fac8d4558e5",
       "value": " 3611056/? [00:00&lt;00:00, 15913541.19/s]"
      }
     },
     "78cdf52d0a9b4e4488b06627624a5ff8": {
      "model_module": "@jupyter-widgets/controls",
      "model_module_version": "2.0.0",
      "model_name": "HBoxModel",
      "state": {
       "children": [
        "IPY_MODEL_1bb638f3629e4883884624fcae5fab00",
        "IPY_MODEL_d60a2507ca674c86b517a3227e1299dd",
        "IPY_MODEL_902df6acd76e44efa968fd264c01a34f"
       ],
       "layout": "IPY_MODEL_78d160af90094c9dbfccdcca33289e28"
      }
     },
     "78d160af90094c9dbfccdcca33289e28": {
      "model_module": "@jupyter-widgets/base",
      "model_module_version": "2.0.0",
      "model_name": "LayoutModel",
      "state": {}
     },
     "78f678feb0d14e68840cf3b96fce6010": {
      "model_module": "@jupyter-widgets/controls",
      "model_module_version": "2.0.0",
      "model_name": "ProgressStyleModel",
      "state": {
       "description_width": ""
      }
     },
     "7a3ca6858ef246eda5c4064b17a74caf": {
      "model_module": "@jupyter-widgets/controls",
      "model_module_version": "2.0.0",
      "model_name": "HTMLStyleModel",
      "state": {
       "description_width": "",
       "font_size": null,
       "text_color": null
      }
     },
     "7a8424e94d9f488c8767072ad4d4b1c3": {
      "model_module": "@jupyter-widgets/controls",
      "model_module_version": "2.0.0",
      "model_name": "HTMLStyleModel",
      "state": {
       "description_width": "",
       "font_size": null,
       "text_color": null
      }
     },
     "7ac6d6ae0bdc4a72a092d3c0ecd7f0f0": {
      "model_module": "@jupyter-widgets/base",
      "model_module_version": "2.0.0",
      "model_name": "LayoutModel",
      "state": {}
     },
     "7b83b90295d04bee885cb2f35445392b": {
      "model_module": "@jupyter-widgets/base",
      "model_module_version": "2.0.0",
      "model_name": "LayoutModel",
      "state": {
       "width": "20px"
      }
     },
     "7e709c6a538441ba886e5f633b5e99d9": {
      "model_module": "@jupyter-widgets/controls",
      "model_module_version": "2.0.0",
      "model_name": "HTMLModel",
      "state": {
       "layout": "IPY_MODEL_40ff2b59d3894c27aa1b6c4a17c32a06",
       "style": "IPY_MODEL_55af3bde1bb249af974f987ecce3eca3",
       "value": " 3609593/? [00:00&lt;00:00, 16509243.12/s]"
      }
     },
     "804bb137dc8343c7b59e6a9c213a881c": {
      "model_module": "@jupyter-widgets/base",
      "model_module_version": "2.0.0",
      "model_name": "LayoutModel",
      "state": {}
     },
     "80db51c2b2484fa89281e495997c7ef2": {
      "model_module": "@jupyter-widgets/controls",
      "model_module_version": "2.0.0",
      "model_name": "FloatProgressModel",
      "state": {
       "bar_style": "success",
       "layout": "IPY_MODEL_e3c935001e7b49bfad049d66c5a0250a",
       "max": 1,
       "style": "IPY_MODEL_1bfb543d2f8f4ac5aca4b855da0704cb",
       "value": 1
      }
     },
     "83c5d0c5c3b74eb3af0ec8d849986d02": {
      "model_module": "@jupyter-widgets/controls",
      "model_module_version": "2.0.0",
      "model_name": "HBoxModel",
      "state": {
       "children": [
        "IPY_MODEL_40ab060d868c4ca38a136963f144d444",
        "IPY_MODEL_80db51c2b2484fa89281e495997c7ef2",
        "IPY_MODEL_2062bd87e0644fdcb540bdd21fe1cc5c"
       ],
       "layout": "IPY_MODEL_67f6bdfb830f49389a3ae2e33bf7108f"
      }
     },
     "846572a2fb044031a068b1249ec32e48": {
      "model_module": "@jupyter-widgets/base",
      "model_module_version": "2.0.0",
      "model_name": "LayoutModel",
      "state": {}
     },
     "85662563ff0e4c0cb3cc58c164ee0964": {
      "model_module": "@jupyter-widgets/controls",
      "model_module_version": "2.0.0",
      "model_name": "ProgressStyleModel",
      "state": {
       "description_width": ""
      }
     },
     "87191ce0191d4dc89bb6051cdf5a0781": {
      "model_module": "@jupyter-widgets/base",
      "model_module_version": "2.0.0",
      "model_name": "LayoutModel",
      "state": {}
     },
     "87adeb953e7743218056ac68b36867a8": {
      "model_module": "@jupyter-widgets/controls",
      "model_module_version": "2.0.0",
      "model_name": "ProgressStyleModel",
      "state": {
       "description_width": ""
      }
     },
     "8976bb481e864b889152395c73dd71f9": {
      "model_module": "@jupyter-widgets/controls",
      "model_module_version": "2.0.0",
      "model_name": "HBoxModel",
      "state": {
       "children": [
        "IPY_MODEL_12c371f319ec46e9b05e5aab796f6011",
        "IPY_MODEL_d19a4236cba5475ab84a75ca4b98d286",
        "IPY_MODEL_c1554f6a1e1f4e4595760b331d428dde"
       ],
       "layout": "IPY_MODEL_d6b81638bad54cf7ad3d42de0d69ece8"
      }
     },
     "89a6810b86b2413ab5a7d69ddd53b62d": {
      "model_module": "@jupyter-widgets/controls",
      "model_module_version": "2.0.0",
      "model_name": "HTMLModel",
      "state": {
       "layout": "IPY_MODEL_38511d1041f44c84a1a93e3dbd610178",
       "style": "IPY_MODEL_99c709651bd0443f84eb4b2ee8e65cd5",
       "value": "Fetching file...: "
      }
     },
     "8ae06c227db441d0bbf66658f1567400": {
      "model_module": "@jupyter-widgets/controls",
      "model_module_version": "2.0.0",
      "model_name": "HTMLModel",
      "state": {
       "layout": "IPY_MODEL_acabbf04d97f43d39ff81df009f258c2",
       "style": "IPY_MODEL_da9aea8cd5604f80a5ca855d554e1fe6",
       "value": " 3806670/? [00:00&lt;00:00, 15174359.66/s]"
      }
     },
     "8b49d22781994db69c8f9b7e6b9051b1": {
      "model_module": "@jupyter-widgets/base",
      "model_module_version": "2.0.0",
      "model_name": "LayoutModel",
      "state": {}
     },
     "8bf73ace5ae146088cd98e3870a0bac6": {
      "model_module": "@jupyter-widgets/controls",
      "model_module_version": "2.0.0",
      "model_name": "HTMLStyleModel",
      "state": {
       "description_width": "",
       "font_size": null,
       "text_color": null
      }
     },
     "8cfaa41f818a4ab7a166c49c6017aaf4": {
      "model_module": "@jupyter-widgets/base",
      "model_module_version": "2.0.0",
      "model_name": "LayoutModel",
      "state": {}
     },
     "8d060fb10a0b4ccebefdd96d3204dcb1": {
      "model_module": "@jupyter-widgets/controls",
      "model_module_version": "2.0.0",
      "model_name": "HTMLModel",
      "state": {
       "layout": "IPY_MODEL_bfea606202464591b772860340bdebe9",
       "style": "IPY_MODEL_599fa1eb22de425cba433749920e5629",
       "value": " 3606962/? [00:00&lt;00:00, 17148819.79/s]"
      }
     },
     "8d7bb783968e48b18ff565564c14be3e": {
      "model_module": "@jupyter-widgets/controls",
      "model_module_version": "2.0.0",
      "model_name": "FloatProgressModel",
      "state": {
       "bar_style": "success",
       "layout": "IPY_MODEL_f9d3ebe8f9e540b0b1d973da8ba42627",
       "max": 1,
       "style": "IPY_MODEL_b1df6f4d340a41c6b4ef388e2e6b0eef",
       "value": 1
      }
     },
     "8dc3caa8970d4bf2842929de65bdcaab": {
      "model_module": "@jupyter-widgets/base",
      "model_module_version": "2.0.0",
      "model_name": "LayoutModel",
      "state": {}
     },
     "902df6acd76e44efa968fd264c01a34f": {
      "model_module": "@jupyter-widgets/controls",
      "model_module_version": "2.0.0",
      "model_name": "HTMLModel",
      "state": {
       "layout": "IPY_MODEL_ddc4f08a853947e79c49809b0a225e93",
       "style": "IPY_MODEL_732d4ff823e140b1a24352da4afef9b5",
       "value": " 3607024/? [00:00&lt;00:00, 13522863.65/s]"
      }
     },
     "907b7ee5828c489da34afe4c988cab6a": {
      "model_module": "@jupyter-widgets/controls",
      "model_module_version": "2.0.0",
      "model_name": "FloatProgressModel",
      "state": {
       "bar_style": "success",
       "layout": "IPY_MODEL_7402a3df74384bbcac7e5e878cdba6e9",
       "max": 1,
       "style": "IPY_MODEL_58b665a7465347ce813eb7912654daf4",
       "value": 1
      }
     },
     "912d626c62b64380b294ec4c044b5e73": {
      "model_module": "@jupyter-widgets/base",
      "model_module_version": "2.0.0",
      "model_name": "LayoutModel",
      "state": {
       "width": "20px"
      }
     },
     "9235c1c2eb5b4d9792a6c67aff06cfa5": {
      "model_module": "@jupyter-widgets/controls",
      "model_module_version": "2.0.0",
      "model_name": "HTMLModel",
      "state": {
       "layout": "IPY_MODEL_4aad5dc962f7473a9a4e9187039e369f",
       "style": "IPY_MODEL_4562d9d4fabf498f9532de9ae2544f80",
       "value": " 3673/3673 [00:00&lt;00:00, 5779.93/s]"
      }
     },
     "92a1bc7b1794438cbcc02f179b23cb6f": {
      "model_module": "@jupyter-widgets/controls",
      "model_module_version": "2.0.0",
      "model_name": "HTMLModel",
      "state": {
       "layout": "IPY_MODEL_468b0d5ddbd74efa905d9c95a865b3ef",
       "style": "IPY_MODEL_fabb71e4724347ee9852f9e69d8c71aa",
       "value": " 3608591/? [00:00&lt;00:00, 15472600.46/s]"
      }
     },
     "92faf8905d3a452fb2c6d77bd1fc0da5": {
      "model_module": "@jupyter-widgets/base",
      "model_module_version": "2.0.0",
      "model_name": "LayoutModel",
      "state": {}
     },
     "9366a106211f4f748360780789e9d7b5": {
      "model_module": "@jupyter-widgets/controls",
      "model_module_version": "2.0.0",
      "model_name": "HTMLStyleModel",
      "state": {
       "description_width": "",
       "font_size": null,
       "text_color": null
      }
     },
     "93ea72e6764740acb3fe8eee0ef6400e": {
      "model_module": "@jupyter-widgets/controls",
      "model_module_version": "2.0.0",
      "model_name": "FloatProgressModel",
      "state": {
       "bar_style": "success",
       "layout": "IPY_MODEL_736a584e21e04d19b5b667623eafbd2f",
       "max": 1,
       "style": "IPY_MODEL_4392356338194495af9ecc13c33f2261",
       "value": 1
      }
     },
     "93ff42d6ee81477088a133db386933b8": {
      "model_module": "@jupyter-widgets/controls",
      "model_module_version": "2.0.0",
      "model_name": "FloatProgressModel",
      "state": {
       "bar_style": "success",
       "layout": "IPY_MODEL_676c726099924ec5b2676cfc5d1bc502",
       "max": 1,
       "style": "IPY_MODEL_6fcb944692c8464899cc5086b0cf8b99",
       "value": 1
      }
     },
     "95f538c575ef499e843ee957c5f67829": {
      "model_module": "@jupyter-widgets/base",
      "model_module_version": "2.0.0",
      "model_name": "LayoutModel",
      "state": {}
     },
     "96298e5942fc4102b1227654caac265d": {
      "model_module": "@jupyter-widgets/controls",
      "model_module_version": "2.0.0",
      "model_name": "HBoxModel",
      "state": {
       "children": [
        "IPY_MODEL_e85ad911c4e641bd8db8bffbc22e997b",
        "IPY_MODEL_c68ea58d024a49d99e11226c1471096b",
        "IPY_MODEL_dc187693f1714c21a115c601fa30510a"
       ],
       "layout": "IPY_MODEL_e83dc0b2764145dbb0407a5c087db615"
      }
     },
     "9740234ffd90489c86e1d06b2779cbd7": {
      "model_module": "@jupyter-widgets/base",
      "model_module_version": "2.0.0",
      "model_name": "LayoutModel",
      "state": {}
     },
     "99b8311e26e24d079c23d3ca60125380": {
      "model_module": "@jupyter-widgets/base",
      "model_module_version": "2.0.0",
      "model_name": "LayoutModel",
      "state": {}
     },
     "99c709651bd0443f84eb4b2ee8e65cd5": {
      "model_module": "@jupyter-widgets/controls",
      "model_module_version": "2.0.0",
      "model_name": "HTMLStyleModel",
      "state": {
       "description_width": "",
       "font_size": null,
       "text_color": null
      }
     },
     "99d5f039990d4d5f8f4be4b0888bdd9d": {
      "model_module": "@jupyter-widgets/base",
      "model_module_version": "2.0.0",
      "model_name": "LayoutModel",
      "state": {}
     },
     "9cb1003ff7934bcebf24671da67c4125": {
      "model_module": "@jupyter-widgets/base",
      "model_module_version": "2.0.0",
      "model_name": "LayoutModel",
      "state": {
       "width": "20px"
      }
     },
     "9cd447c8aa2f4951ac0ba5130f67cdb4": {
      "model_module": "@jupyter-widgets/controls",
      "model_module_version": "2.0.0",
      "model_name": "HTMLStyleModel",
      "state": {
       "description_width": "",
       "font_size": null,
       "text_color": null
      }
     },
     "9d5d7624e59b436bb33e4d5af69b66b3": {
      "model_module": "@jupyter-widgets/controls",
      "model_module_version": "2.0.0",
      "model_name": "HTMLStyleModel",
      "state": {
       "description_width": "",
       "font_size": null,
       "text_color": null
      }
     },
     "9de66be27a4a41cb9be8347c574501b8": {
      "model_module": "@jupyter-widgets/controls",
      "model_module_version": "2.0.0",
      "model_name": "HTMLModel",
      "state": {
       "layout": "IPY_MODEL_25f97972daf8453db787df8af80e2d4a",
       "style": "IPY_MODEL_769feebe56e7415f9bb238e684dd084c",
       "value": " 3608585/? [00:00&lt;00:00, 15001395.09/s]"
      }
     },
     "9ea9ed804a024aee90d0a2ec8e3f5524": {
      "model_module": "@jupyter-widgets/base",
      "model_module_version": "2.0.0",
      "model_name": "LayoutModel",
      "state": {
       "width": "20px"
      }
     },
     "9f65533bb6694245b1e2583cc30df2ea": {
      "model_module": "@jupyter-widgets/base",
      "model_module_version": "2.0.0",
      "model_name": "LayoutModel",
      "state": {}
     },
     "a08e0d44f00640229f5c1175e0d91a03": {
      "model_module": "@jupyter-widgets/base",
      "model_module_version": "2.0.0",
      "model_name": "LayoutModel",
      "state": {}
     },
     "a2f298dcc63045968c3808babb97da93": {
      "model_module": "@jupyter-widgets/controls",
      "model_module_version": "2.0.0",
      "model_name": "HTMLStyleModel",
      "state": {
       "description_width": "",
       "font_size": null,
       "text_color": null
      }
     },
     "a3b29a6c6490497f8e098d06ec2cf829": {
      "model_module": "@jupyter-widgets/base",
      "model_module_version": "2.0.0",
      "model_name": "LayoutModel",
      "state": {}
     },
     "a7a8ba576fb141dea60ad1473a9656c3": {
      "model_module": "@jupyter-widgets/controls",
      "model_module_version": "2.0.0",
      "model_name": "HBoxModel",
      "state": {
       "children": [
        "IPY_MODEL_a993fb3872fb4849808ea64923f1ff24",
        "IPY_MODEL_5048060070db482f941345ca39d47f4e",
        "IPY_MODEL_c349f8888f8846febadf026509bbae84"
       ],
       "layout": "IPY_MODEL_0369a6478ac34c5e846c82ca163f88e1"
      }
     },
     "a897b7801c3a4f249f71c5a0e9bc47ff": {
      "model_module": "@jupyter-widgets/controls",
      "model_module_version": "2.0.0",
      "model_name": "HBoxModel",
      "state": {
       "children": [
        "IPY_MODEL_fae5708adad6428097747a8a5c619964",
        "IPY_MODEL_5911cfc6c8394f378abd34de23f9bf5d",
        "IPY_MODEL_55674f87a3914a739dc2afdafa6d8495"
       ],
       "layout": "IPY_MODEL_af2d270ad7d543138fafc57a561bdee8"
      }
     },
     "a8d136e591db4e19bc28e81dd85d7256": {
      "model_module": "@jupyter-widgets/base",
      "model_module_version": "2.0.0",
      "model_name": "LayoutModel",
      "state": {
       "width": "20px"
      }
     },
     "a993fb3872fb4849808ea64923f1ff24": {
      "model_module": "@jupyter-widgets/controls",
      "model_module_version": "2.0.0",
      "model_name": "HTMLModel",
      "state": {
       "layout": "IPY_MODEL_55f0fb66a7f1460a80636e4cf082a7b2",
       "style": "IPY_MODEL_c521332f5ac248d1900a10ecae2a505a",
       "value": "Fetching file...: "
      }
     },
     "a99d0f7f50f748ac8c24fcb16308b457": {
      "model_module": "@jupyter-widgets/base",
      "model_module_version": "2.0.0",
      "model_name": "LayoutModel",
      "state": {}
     },
     "aa7559efc8864b9d841de1c86b515171": {
      "model_module": "@jupyter-widgets/controls",
      "model_module_version": "2.0.0",
      "model_name": "HTMLStyleModel",
      "state": {
       "description_width": "",
       "font_size": null,
       "text_color": null
      }
     },
     "ab58a568ca744d0aaa2ccb900ee4cbce": {
      "model_module": "@jupyter-widgets/base",
      "model_module_version": "2.0.0",
      "model_name": "LayoutModel",
      "state": {}
     },
     "ab9f3e4ef57c4be391103b38f03eb18e": {
      "model_module": "@jupyter-widgets/controls",
      "model_module_version": "2.0.0",
      "model_name": "HTMLModel",
      "state": {
       "layout": "IPY_MODEL_4541e794b2a2414eb9817b45037dbc73",
       "style": "IPY_MODEL_457a614d3d1c4213b71a1422d03331eb",
       "value": "Fetching file...: "
      }
     },
     "acabbf04d97f43d39ff81df009f258c2": {
      "model_module": "@jupyter-widgets/base",
      "model_module_version": "2.0.0",
      "model_name": "LayoutModel",
      "state": {}
     },
     "ace00029b2ba46b283e3749aafd24485": {
      "model_module": "@jupyter-widgets/controls",
      "model_module_version": "2.0.0",
      "model_name": "HTMLStyleModel",
      "state": {
       "description_width": "",
       "font_size": null,
       "text_color": null
      }
     },
     "aedc3e94933749c1bc438147e483aba1": {
      "model_module": "@jupyter-widgets/controls",
      "model_module_version": "2.0.0",
      "model_name": "HBoxModel",
      "state": {
       "children": [
        "IPY_MODEL_bc6f7c60ee2b43f58b768b5c91df352f",
        "IPY_MODEL_31549fea49dd441784981005d22f8ea4",
        "IPY_MODEL_5eaabe2b931e4ac8a0f57d54247abce8"
       ],
       "layout": "IPY_MODEL_66e66d02c9d74bacb64854d53f911889"
      }
     },
     "aeecbd90ad324062bd12646ef1a9ab7e": {
      "model_module": "@jupyter-widgets/base",
      "model_module_version": "2.0.0",
      "model_name": "LayoutModel",
      "state": {}
     },
     "af2d270ad7d543138fafc57a561bdee8": {
      "model_module": "@jupyter-widgets/base",
      "model_module_version": "2.0.0",
      "model_name": "LayoutModel",
      "state": {}
     },
     "af331136e11c424cb928ef8cce595c16": {
      "model_module": "@jupyter-widgets/base",
      "model_module_version": "2.0.0",
      "model_name": "LayoutModel",
      "state": {}
     },
     "afa137f7908749bd9f3307f3761001be": {
      "model_module": "@jupyter-widgets/controls",
      "model_module_version": "2.0.0",
      "model_name": "ProgressStyleModel",
      "state": {
       "description_width": ""
      }
     },
     "b04dbb5e331c4f77932a5cdff4cc7d89": {
      "model_module": "@jupyter-widgets/base",
      "model_module_version": "2.0.0",
      "model_name": "LayoutModel",
      "state": {}
     },
     "b070c119c2524953824ec99cc944beb4": {
      "model_module": "@jupyter-widgets/controls",
      "model_module_version": "2.0.0",
      "model_name": "HTMLStyleModel",
      "state": {
       "description_width": "",
       "font_size": null,
       "text_color": null
      }
     },
     "b0b3f7f3e7ad423e8ec8be9b49f88009": {
      "model_module": "@jupyter-widgets/controls",
      "model_module_version": "2.0.0",
      "model_name": "HTMLModel",
      "state": {
       "layout": "IPY_MODEL_aeecbd90ad324062bd12646ef1a9ab7e",
       "style": "IPY_MODEL_1756155f1fa74e128ae83ed041fd4470",
       "value": "Fetching file...: "
      }
     },
     "b1df6f4d340a41c6b4ef388e2e6b0eef": {
      "model_module": "@jupyter-widgets/controls",
      "model_module_version": "2.0.0",
      "model_name": "ProgressStyleModel",
      "state": {
       "description_width": ""
      }
     },
     "b3ce873f64a84e9087185fac8d4558e5": {
      "model_module": "@jupyter-widgets/controls",
      "model_module_version": "2.0.0",
      "model_name": "HTMLStyleModel",
      "state": {
       "description_width": "",
       "font_size": null,
       "text_color": null
      }
     },
     "b3dff4a0b99d4d15892f90f84bf4bb79": {
      "model_module": "@jupyter-widgets/controls",
      "model_module_version": "2.0.0",
      "model_name": "HTMLModel",
      "state": {
       "layout": "IPY_MODEL_846572a2fb044031a068b1249ec32e48",
       "style": "IPY_MODEL_f8b57b88b7a2417bb224bff1e386d46a",
       "value": "Fetching file...: "
      }
     },
     "b3e2a06f0cf44ed2be1946352e103a13": {
      "model_module": "@jupyter-widgets/controls",
      "model_module_version": "2.0.0",
      "model_name": "HTMLStyleModel",
      "state": {
       "description_width": "",
       "font_size": null,
       "text_color": null
      }
     },
     "b40092f0edc44a28b34e8e996690e553": {
      "model_module": "@jupyter-widgets/controls",
      "model_module_version": "2.0.0",
      "model_name": "HTMLStyleModel",
      "state": {
       "description_width": "",
       "font_size": null,
       "text_color": null
      }
     },
     "b42d27a4261d489c8eae280ee8bba76e": {
      "model_module": "@jupyter-widgets/base",
      "model_module_version": "2.0.0",
      "model_name": "LayoutModel",
      "state": {
       "width": "20px"
      }
     },
     "b4d260329ce144cab84abe7543ad2dad": {
      "model_module": "@jupyter-widgets/base",
      "model_module_version": "2.0.0",
      "model_name": "LayoutModel",
      "state": {}
     },
     "b4e89a598e9843b98f2e3958395188a8": {
      "model_module": "@jupyter-widgets/base",
      "model_module_version": "2.0.0",
      "model_name": "LayoutModel",
      "state": {
       "width": "20px"
      }
     },
     "b591ca00891b4290b2ae5bd3c52fbc2e": {
      "model_module": "@jupyter-widgets/controls",
      "model_module_version": "2.0.0",
      "model_name": "HTMLModel",
      "state": {
       "layout": "IPY_MODEL_95f538c575ef499e843ee957c5f67829",
       "style": "IPY_MODEL_b40092f0edc44a28b34e8e996690e553",
       "value": " 1/1 [11:05&lt;00:00, 666.00s/it]"
      }
     },
     "b5a61ab7e8714cd69548b0ff443bef90": {
      "model_module": "@jupyter-widgets/controls",
      "model_module_version": "2.0.0",
      "model_name": "FloatProgressModel",
      "state": {
       "bar_style": "success",
       "layout": "IPY_MODEL_9ea9ed804a024aee90d0a2ec8e3f5524",
       "max": 1,
       "style": "IPY_MODEL_e9450e29ef694a6095459d9fcf0e016f",
       "value": 1
      }
     },
     "b62f5bea9bf444c3b61b6ff84f321d44": {
      "model_module": "@jupyter-widgets/controls",
      "model_module_version": "2.0.0",
      "model_name": "ProgressStyleModel",
      "state": {
       "description_width": ""
      }
     },
     "b68d9c686dea46108453bd0c5e08f509": {
      "model_module": "@jupyter-widgets/base",
      "model_module_version": "2.0.0",
      "model_name": "LayoutModel",
      "state": {}
     },
     "b6abbb37412b49389e072744bd361bea": {
      "model_module": "@jupyter-widgets/base",
      "model_module_version": "2.0.0",
      "model_name": "LayoutModel",
      "state": {}
     },
     "b7aa54ecbbda44f59f869f7a214d4f30": {
      "model_module": "@jupyter-widgets/controls",
      "model_module_version": "2.0.0",
      "model_name": "HBoxModel",
      "state": {
       "children": [
        "IPY_MODEL_67070376630f44469a68ff307dcfc450",
        "IPY_MODEL_93ff42d6ee81477088a133db386933b8",
        "IPY_MODEL_6147515a1631445196287f343958c01f"
       ],
       "layout": "IPY_MODEL_30a52876d29d46fc8dfb92fea406a559"
      }
     },
     "b8784cae08ae499d89c9251f78713891": {
      "model_module": "@jupyter-widgets/base",
      "model_module_version": "2.0.0",
      "model_name": "LayoutModel",
      "state": {}
     },
     "b8c6fb46906941359c6463dc76b7c792": {
      "model_module": "@jupyter-widgets/base",
      "model_module_version": "2.0.0",
      "model_name": "LayoutModel",
      "state": {
       "width": "20px"
      }
     },
     "b963e91f47844a469264c0252ffee6f0": {
      "model_module": "@jupyter-widgets/controls",
      "model_module_version": "2.0.0",
      "model_name": "HTMLStyleModel",
      "state": {
       "description_width": "",
       "font_size": null,
       "text_color": null
      }
     },
     "ba8f6d40a3b44b7dad0b4a58a2aa0beb": {
      "model_module": "@jupyter-widgets/controls",
      "model_module_version": "2.0.0",
      "model_name": "HTMLModel",
      "state": {
       "layout": "IPY_MODEL_c9d9ffd3e4c24c2c8d2ef9a2c693494e",
       "style": "IPY_MODEL_9cd447c8aa2f4951ac0ba5130f67cdb4",
       "value": "Fetching file...: "
      }
     },
     "bb818d46a66a4542842bf1a6628e9ef5": {
      "model_module": "@jupyter-widgets/controls",
      "model_module_version": "2.0.0",
      "model_name": "ProgressStyleModel",
      "state": {
       "description_width": ""
      }
     },
     "bbfdeedf06604cf09048f0c67a49e432": {
      "model_module": "@jupyter-widgets/base",
      "model_module_version": "2.0.0",
      "model_name": "LayoutModel",
      "state": {}
     },
     "bc6f7c60ee2b43f58b768b5c91df352f": {
      "model_module": "@jupyter-widgets/controls",
      "model_module_version": "2.0.0",
      "model_name": "HTMLModel",
      "state": {
       "layout": "IPY_MODEL_2fbead999bda423f877f9e155fd93a51",
       "style": "IPY_MODEL_7a8424e94d9f488c8767072ad4d4b1c3",
       "value": "Fetching monitoring/8c08bc31/stderr values: 100%"
      }
     },
     "bc7faab731dc4634a136e577ae537df2": {
      "model_module": "@jupyter-widgets/controls",
      "model_module_version": "2.0.0",
      "model_name": "HTMLStyleModel",
      "state": {
       "description_width": "",
       "font_size": null,
       "text_color": null
      }
     },
     "bdd757cdf95a4cf9820badfe2056f656": {
      "model_module": "@jupyter-widgets/controls",
      "model_module_version": "2.0.0",
      "model_name": "HTMLStyleModel",
      "state": {
       "description_width": "",
       "font_size": null,
       "text_color": null
      }
     },
     "becb3df5eafe4b9f958732632e644343": {
      "model_module": "@jupyter-widgets/base",
      "model_module_version": "2.0.0",
      "model_name": "LayoutModel",
      "state": {}
     },
     "bfdd55a0724e43d3ad010c5e49b91714": {
      "model_module": "@jupyter-widgets/base",
      "model_module_version": "2.0.0",
      "model_name": "LayoutModel",
      "state": {}
     },
     "bfea606202464591b772860340bdebe9": {
      "model_module": "@jupyter-widgets/base",
      "model_module_version": "2.0.0",
      "model_name": "LayoutModel",
      "state": {}
     },
     "c1554f6a1e1f4e4595760b331d428dde": {
      "model_module": "@jupyter-widgets/controls",
      "model_module_version": "2.0.0",
      "model_name": "HTMLModel",
      "state": {
       "layout": "IPY_MODEL_ab58a568ca744d0aaa2ccb900ee4cbce",
       "style": "IPY_MODEL_b963e91f47844a469264c0252ffee6f0",
       "value": " 3628066/? [00:00&lt;00:00, 12434569.62/s]"
      }
     },
     "c1750d5274c243f593219a79085729f4": {
      "model_module": "@jupyter-widgets/controls",
      "model_module_version": "2.0.0",
      "model_name": "HTMLStyleModel",
      "state": {
       "description_width": "",
       "font_size": null,
       "text_color": null
      }
     },
     "c18d0fc693474614bfee7da039eef4d9": {
      "model_module": "@jupyter-widgets/controls",
      "model_module_version": "2.0.0",
      "model_name": "FloatProgressModel",
      "state": {
       "bar_style": "success",
       "layout": "IPY_MODEL_d6ec672d0319419fa4632be27bf89b96",
       "max": 1,
       "style": "IPY_MODEL_46a09e2203e4456eb5813faec29e05da",
       "value": 1
      }
     },
     "c1b6e0bbb0394c459c193ca1207114f1": {
      "model_module": "@jupyter-widgets/controls",
      "model_module_version": "2.0.0",
      "model_name": "HTMLStyleModel",
      "state": {
       "description_width": "",
       "font_size": null,
       "text_color": null
      }
     },
     "c1d0cc8f3edd4fdd890d90293d05aa6e": {
      "model_module": "@jupyter-widgets/base",
      "model_module_version": "2.0.0",
      "model_name": "LayoutModel",
      "state": {}
     },
     "c258639d23054826b92eb37a596bff6c": {
      "model_module": "@jupyter-widgets/base",
      "model_module_version": "2.0.0",
      "model_name": "LayoutModel",
      "state": {}
     },
     "c347c3997ce74d21b8e1447a43464e7f": {
      "model_module": "@jupyter-widgets/base",
      "model_module_version": "2.0.0",
      "model_name": "LayoutModel",
      "state": {}
     },
     "c349f8888f8846febadf026509bbae84": {
      "model_module": "@jupyter-widgets/controls",
      "model_module_version": "2.0.0",
      "model_name": "HTMLModel",
      "state": {
       "layout": "IPY_MODEL_b4d260329ce144cab84abe7543ad2dad",
       "style": "IPY_MODEL_9366a106211f4f748360780789e9d7b5",
       "value": " 3608582/? [00:00&lt;00:00, 15736841.09/s]"
      }
     },
     "c521332f5ac248d1900a10ecae2a505a": {
      "model_module": "@jupyter-widgets/controls",
      "model_module_version": "2.0.0",
      "model_name": "HTMLStyleModel",
      "state": {
       "description_width": "",
       "font_size": null,
       "text_color": null
      }
     },
     "c53ed42f67cc42abb7ee2c00a661413e": {
      "model_module": "@jupyter-widgets/base",
      "model_module_version": "2.0.0",
      "model_name": "LayoutModel",
      "state": {}
     },
     "c68ea58d024a49d99e11226c1471096b": {
      "model_module": "@jupyter-widgets/controls",
      "model_module_version": "2.0.0",
      "model_name": "FloatProgressModel",
      "state": {
       "bar_style": "success",
       "layout": "IPY_MODEL_632fa8bc0f1e4454890fb46d7e75b78a",
       "max": 1,
       "style": "IPY_MODEL_71cc53b8f161463891faf3131504b06a",
       "value": 1
      }
     },
     "c6c29f7796dd4a1d9d0d214e2bd91bcb": {
      "model_module": "@jupyter-widgets/controls",
      "model_module_version": "2.0.0",
      "model_name": "HTMLStyleModel",
      "state": {
       "description_width": "",
       "font_size": null,
       "text_color": null
      }
     },
     "c74a03a2c826464397d217487bacd44c": {
      "model_module": "@jupyter-widgets/controls",
      "model_module_version": "2.0.0",
      "model_name": "FloatProgressModel",
      "state": {
       "bar_style": "success",
       "layout": "IPY_MODEL_7b83b90295d04bee885cb2f35445392b",
       "max": 1,
       "style": "IPY_MODEL_4c115706d2024577ab0c85b5455451c0",
       "value": 1
      }
     },
     "c87a7991c89e4111bd443468fd81fa0d": {
      "model_module": "@jupyter-widgets/controls",
      "model_module_version": "2.0.0",
      "model_name": "HBoxModel",
      "state": {
       "children": [
        "IPY_MODEL_6ffa1593a0d742c2bea30c4a1b23b37b",
        "IPY_MODEL_1baa6881b3274a53adaec7fca251f1e0",
        "IPY_MODEL_8d060fb10a0b4ccebefdd96d3204dcb1"
       ],
       "layout": "IPY_MODEL_a99d0f7f50f748ac8c24fcb16308b457"
      }
     },
     "c8a4fe3cbcb84224bb9c94475b5a4e4b": {
      "model_module": "@jupyter-widgets/controls",
      "model_module_version": "2.0.0",
      "model_name": "HBoxModel",
      "state": {
       "children": [
        "IPY_MODEL_b0b3f7f3e7ad423e8ec8be9b49f88009",
        "IPY_MODEL_1b1cbf16dd5547d39b97edc91313c79b",
        "IPY_MODEL_dd96967f05d044ffa429fbd4a0c298bb"
       ],
       "layout": "IPY_MODEL_cb33530a20b4408e885955f8fb5b4dd1"
      }
     },
     "c951285796f04edb95fd5386928a0754": {
      "model_module": "@jupyter-widgets/base",
      "model_module_version": "2.0.0",
      "model_name": "LayoutModel",
      "state": {}
     },
     "c9d9ffd3e4c24c2c8d2ef9a2c693494e": {
      "model_module": "@jupyter-widgets/base",
      "model_module_version": "2.0.0",
      "model_name": "LayoutModel",
      "state": {}
     },
     "cb33530a20b4408e885955f8fb5b4dd1": {
      "model_module": "@jupyter-widgets/base",
      "model_module_version": "2.0.0",
      "model_name": "LayoutModel",
      "state": {}
     },
     "cb3562370fd046bebbeeab535ca3772b": {
      "model_module": "@jupyter-widgets/controls",
      "model_module_version": "2.0.0",
      "model_name": "HTMLModel",
      "state": {
       "layout": "IPY_MODEL_b04dbb5e331c4f77932a5cdff4cc7d89",
       "style": "IPY_MODEL_5cbad3fa8bb743f3b9c9622c18be74a2",
       "value": " 3618535/? [00:00&lt;00:00, 15646338.81/s]"
      }
     },
     "cba2b8d92bc84822bbf27a1a475a7a3f": {
      "model_module": "@jupyter-widgets/controls",
      "model_module_version": "2.0.0",
      "model_name": "HBoxModel",
      "state": {
       "children": [
        "IPY_MODEL_b3dff4a0b99d4d15892f90f84bf4bb79",
        "IPY_MODEL_93ea72e6764740acb3fe8eee0ef6400e",
        "IPY_MODEL_8ae06c227db441d0bbf66658f1567400"
       ],
       "layout": "IPY_MODEL_229b08d2b9d84fc5a93a3ccf8ee639d1"
      }
     },
     "ccdfa059c4354904af0a924380e5f1d1": {
      "model_module": "@jupyter-widgets/controls",
      "model_module_version": "2.0.0",
      "model_name": "HTMLModel",
      "state": {
       "layout": "IPY_MODEL_becb3df5eafe4b9f958732632e644343",
       "style": "IPY_MODEL_343c0bfb8ad84fdaa8ced72849256879",
       "value": " 3615434/? [00:00&lt;00:00, 16856394.62/s]"
      }
     },
     "cd7fd74b9acb424481dbba60156450eb": {
      "model_module": "@jupyter-widgets/controls",
      "model_module_version": "2.0.0",
      "model_name": "ProgressStyleModel",
      "state": {
       "description_width": ""
      }
     },
     "cdd1c6ac44e34012a49bffc6b68747b1": {
      "model_module": "@jupyter-widgets/base",
      "model_module_version": "2.0.0",
      "model_name": "LayoutModel",
      "state": {}
     },
     "cf8d9344d5b442d48dcad3f8acb28c03": {
      "model_module": "@jupyter-widgets/controls",
      "model_module_version": "2.0.0",
      "model_name": "FloatProgressModel",
      "state": {
       "bar_style": "success",
       "layout": "IPY_MODEL_f5869156e12847b498317c3e3489676f",
       "max": 1,
       "style": "IPY_MODEL_afa137f7908749bd9f3307f3761001be",
       "value": 1
      }
     },
     "cfc9c53c517d40faa1cfaeb3477a7e7a": {
      "model_module": "@jupyter-widgets/controls",
      "model_module_version": "2.0.0",
      "model_name": "ProgressStyleModel",
      "state": {
       "description_width": ""
      }
     },
     "d0b486e4244847d9a14391c94c119a5a": {
      "model_module": "@jupyter-widgets/base",
      "model_module_version": "2.0.0",
      "model_name": "LayoutModel",
      "state": {}
     },
     "d18ecdcb5650401babc86ef75923d9c8": {
      "model_module": "@jupyter-widgets/controls",
      "model_module_version": "2.0.0",
      "model_name": "HTMLModel",
      "state": {
       "layout": "IPY_MODEL_a3b29a6c6490497f8e098d06ec2cf829",
       "style": "IPY_MODEL_6100b74dd260441e9ad871a965895747",
       "value": " 3609281/? [00:00&lt;00:00, 17098159.81/s]"
      }
     },
     "d19a4236cba5475ab84a75ca4b98d286": {
      "model_module": "@jupyter-widgets/controls",
      "model_module_version": "2.0.0",
      "model_name": "FloatProgressModel",
      "state": {
       "bar_style": "success",
       "layout": "IPY_MODEL_5eb6602a9f0f4f16aedf48e2b9d9a481",
       "max": 1,
       "style": "IPY_MODEL_85662563ff0e4c0cb3cc58c164ee0964",
       "value": 1
      }
     },
     "d3315f39cad54673a8b97ef24087d0d6": {
      "model_module": "@jupyter-widgets/controls",
      "model_module_version": "2.0.0",
      "model_name": "HBoxModel",
      "state": {
       "children": [
        "IPY_MODEL_07b994800f334dc5b20e885c18694aee",
        "IPY_MODEL_0313299627684f0ca0107d68b1b6c950",
        "IPY_MODEL_9235c1c2eb5b4d9792a6c67aff06cfa5"
       ],
       "layout": "IPY_MODEL_c1d0cc8f3edd4fdd890d90293d05aa6e"
      }
     },
     "d3cd0c811f4c4abeb7bbf73c33d9eab7": {
      "model_module": "@jupyter-widgets/controls",
      "model_module_version": "2.0.0",
      "model_name": "HTMLStyleModel",
      "state": {
       "description_width": "",
       "font_size": null,
       "text_color": null
      }
     },
     "d4f1aca2e8d649108c7de039f99bb70f": {
      "model_module": "@jupyter-widgets/controls",
      "model_module_version": "2.0.0",
      "model_name": "HTMLModel",
      "state": {
       "layout": "IPY_MODEL_394eecd8885443ef8b373775999cb44d",
       "style": "IPY_MODEL_6f3b4a2d28054fbe9ec860ee622b97f6",
       "value": "Fetching file...: "
      }
     },
     "d4f59841ebdf4e7d8fb3414da944d527": {
      "model_module": "@jupyter-widgets/controls",
      "model_module_version": "2.0.0",
      "model_name": "FloatProgressModel",
      "state": {
       "bar_style": "success",
       "layout": "IPY_MODEL_a8d136e591db4e19bc28e81dd85d7256",
       "max": 1,
       "style": "IPY_MODEL_87adeb953e7743218056ac68b36867a8",
       "value": 1
      }
     },
     "d5c7cd57d91f41cf934a244451da38fa": {
      "model_module": "@jupyter-widgets/base",
      "model_module_version": "2.0.0",
      "model_name": "LayoutModel",
      "state": {}
     },
     "d60a2507ca674c86b517a3227e1299dd": {
      "model_module": "@jupyter-widgets/controls",
      "model_module_version": "2.0.0",
      "model_name": "FloatProgressModel",
      "state": {
       "bar_style": "success",
       "layout": "IPY_MODEL_f1df35803d374145af6301122a6f2962",
       "max": 1,
       "style": "IPY_MODEL_2b4badcc05e94bfcab39f8a0e755d116",
       "value": 1
      }
     },
     "d64a763b02734359b4ca18640a21e8d6": {
      "model_module": "@jupyter-widgets/base",
      "model_module_version": "2.0.0",
      "model_name": "LayoutModel",
      "state": {}
     },
     "d64edb5274b644b3a440cf449b28d9d9": {
      "model_module": "@jupyter-widgets/controls",
      "model_module_version": "2.0.0",
      "model_name": "HTMLStyleModel",
      "state": {
       "description_width": "",
       "font_size": null,
       "text_color": null
      }
     },
     "d6b5a24d0f204c19b421d3e3dddad73a": {
      "model_module": "@jupyter-widgets/controls",
      "model_module_version": "2.0.0",
      "model_name": "HTMLStyleModel",
      "state": {
       "description_width": "",
       "font_size": null,
       "text_color": null
      }
     },
     "d6b81638bad54cf7ad3d42de0d69ece8": {
      "model_module": "@jupyter-widgets/base",
      "model_module_version": "2.0.0",
      "model_name": "LayoutModel",
      "state": {}
     },
     "d6c82b4dd55f4c2f9c47908442de4a2f": {
      "model_module": "@jupyter-widgets/base",
      "model_module_version": "2.0.0",
      "model_name": "LayoutModel",
      "state": {}
     },
     "d6ec672d0319419fa4632be27bf89b96": {
      "model_module": "@jupyter-widgets/base",
      "model_module_version": "2.0.0",
      "model_name": "LayoutModel",
      "state": {
       "width": "20px"
      }
     },
     "d7053cfddfe54555b11b6ab61d9c8df9": {
      "model_module": "@jupyter-widgets/controls",
      "model_module_version": "2.0.0",
      "model_name": "HTMLModel",
      "state": {
       "layout": "IPY_MODEL_711d045b8dc248efa3df1d19c59de21f",
       "style": "IPY_MODEL_ed8385791ff449df8193a5f978963b97",
       "value": "Fetching file...: "
      }
     },
     "d7c7553224ac40c599fc61983454dc5f": {
      "model_module": "@jupyter-widgets/base",
      "model_module_version": "2.0.0",
      "model_name": "LayoutModel",
      "state": {
       "width": "20px"
      }
     },
     "d967ddde835f4daba875469b830e7ee7": {
      "model_module": "@jupyter-widgets/controls",
      "model_module_version": "2.0.0",
      "model_name": "HBoxModel",
      "state": {
       "children": [
        "IPY_MODEL_d4f1aca2e8d649108c7de039f99bb70f",
        "IPY_MODEL_0b73ba5b02274df3adc53f2d42ada59d",
        "IPY_MODEL_e46cfc1b4d0849938ba37bfe67642b26"
       ],
       "layout": "IPY_MODEL_c258639d23054826b92eb37a596bff6c"
      }
     },
     "da9aea8cd5604f80a5ca855d554e1fe6": {
      "model_module": "@jupyter-widgets/controls",
      "model_module_version": "2.0.0",
      "model_name": "HTMLStyleModel",
      "state": {
       "description_width": "",
       "font_size": null,
       "text_color": null
      }
     },
     "db28832157fb4968a0c44ffa3c8f7b96": {
      "model_module": "@jupyter-widgets/controls",
      "model_module_version": "2.0.0",
      "model_name": "HBoxModel",
      "state": {
       "children": [
        "IPY_MODEL_4b1315fc37714b17b1b18b0c2fbf3e10",
        "IPY_MODEL_d4f59841ebdf4e7d8fb3414da944d527",
        "IPY_MODEL_2c9b8d7bc22444a29635a786ea0f4957"
       ],
       "layout": "IPY_MODEL_fcf8f73418864903a0c7acd6efbcd96f"
      }
     },
     "dba7cd00b3d34cc9a44e9f777497ee68": {
      "model_module": "@jupyter-widgets/controls",
      "model_module_version": "2.0.0",
      "model_name": "HTMLModel",
      "state": {
       "layout": "IPY_MODEL_de069d81cd2b44c99acada229a9cccaf",
       "style": "IPY_MODEL_d6b5a24d0f204c19b421d3e3dddad73a",
       "value": " 3648362/? [00:00&lt;00:00, 15062970.85/s]"
      }
     },
     "dbb5f046c2cc4af8a3d19ae8d572f833": {
      "model_module": "@jupyter-widgets/controls",
      "model_module_version": "2.0.0",
      "model_name": "HBoxModel",
      "state": {
       "children": [
        "IPY_MODEL_6b18942bf4c44f62a51cab25414e487d",
        "IPY_MODEL_eb84355b7d2748f281c0a55d0106a785",
        "IPY_MODEL_083a59a50eb94d36821e22c0c4ce6d8c"
       ],
       "layout": "IPY_MODEL_6f692d574d92406a9157c2bd321acb2e"
      }
     },
     "dc187693f1714c21a115c601fa30510a": {
      "model_module": "@jupyter-widgets/controls",
      "model_module_version": "2.0.0",
      "model_name": "HTMLModel",
      "state": {
       "layout": "IPY_MODEL_34235adb81f34a8f8177b2b165bf6b62",
       "style": "IPY_MODEL_efabd7e9426d4d82a3006a0fe6da5c3a",
       "value": " 3611644/? [00:00&lt;00:00, 12258437.70/s]"
      }
     },
     "dd96967f05d044ffa429fbd4a0c298bb": {
      "model_module": "@jupyter-widgets/controls",
      "model_module_version": "2.0.0",
      "model_name": "HTMLModel",
      "state": {
       "layout": "IPY_MODEL_9f65533bb6694245b1e2583cc30df2ea",
       "style": "IPY_MODEL_8bf73ace5ae146088cd98e3870a0bac6",
       "value": " 3607834/? [00:00&lt;00:00, 15317973.86/s]"
      }
     },
     "dd9e3e7206be4757833b5faabcc275fb": {
      "model_module": "@jupyter-widgets/controls",
      "model_module_version": "2.0.0",
      "model_name": "FloatProgressModel",
      "state": {
       "bar_style": "success",
       "layout": "IPY_MODEL_d7c7553224ac40c599fc61983454dc5f",
       "max": 1,
       "style": "IPY_MODEL_22808e82763d4de1a20a56720f8a8a10",
       "value": 1
      }
     },
     "ddc4f08a853947e79c49809b0a225e93": {
      "model_module": "@jupyter-widgets/base",
      "model_module_version": "2.0.0",
      "model_name": "LayoutModel",
      "state": {}
     },
     "de069d81cd2b44c99acada229a9cccaf": {
      "model_module": "@jupyter-widgets/base",
      "model_module_version": "2.0.0",
      "model_name": "LayoutModel",
      "state": {}
     },
     "deac09a5391d46578109a999a8e504d4": {
      "model_module": "@jupyter-widgets/controls",
      "model_module_version": "2.0.0",
      "model_name": "ProgressStyleModel",
      "state": {
       "description_width": ""
      }
     },
     "e19c670c491e427583ac004696eb198a": {
      "model_module": "@jupyter-widgets/controls",
      "model_module_version": "2.0.0",
      "model_name": "HBoxModel",
      "state": {
       "children": [
        "IPY_MODEL_ba8f6d40a3b44b7dad0b4a58a2aa0beb",
        "IPY_MODEL_feb071e9081d4548a637a96dc4565f1b",
        "IPY_MODEL_dba7cd00b3d34cc9a44e9f777497ee68"
       ],
       "layout": "IPY_MODEL_3b18449a40204afc8414c230f0e884dd"
      }
     },
     "e20f099fd312420dafb0e144c75ac8ef": {
      "model_module": "@jupyter-widgets/controls",
      "model_module_version": "2.0.0",
      "model_name": "HBoxModel",
      "state": {
       "children": [
        "IPY_MODEL_5c2bae5c535b4718809468fad62e90c5",
        "IPY_MODEL_b5a61ab7e8714cd69548b0ff443bef90",
        "IPY_MODEL_ef14368288c74d6b9a4defdf840f725b"
       ],
       "layout": "IPY_MODEL_4b6d96fefa714749a649e641cf04e992"
      }
     },
     "e249fa62bdb5459fb5b226c8c13c649b": {
      "model_module": "@jupyter-widgets/base",
      "model_module_version": "2.0.0",
      "model_name": "LayoutModel",
      "state": {}
     },
     "e389619698c346deb532bc18ed0bcad6": {
      "model_module": "@jupyter-widgets/controls",
      "model_module_version": "2.0.0",
      "model_name": "HBoxModel",
      "state": {
       "children": [
        "IPY_MODEL_3f9caca087e8427588b9ab250c393210",
        "IPY_MODEL_f809615cce5947b6a38a9e741089f95e",
        "IPY_MODEL_b591ca00891b4290b2ae5bd3c52fbc2e"
       ],
       "layout": "IPY_MODEL_99d5f039990d4d5f8f4be4b0888bdd9d"
      }
     },
     "e3c935001e7b49bfad049d66c5a0250a": {
      "model_module": "@jupyter-widgets/base",
      "model_module_version": "2.0.0",
      "model_name": "LayoutModel",
      "state": {
       "width": "20px"
      }
     },
     "e46cfc1b4d0849938ba37bfe67642b26": {
      "model_module": "@jupyter-widgets/controls",
      "model_module_version": "2.0.0",
      "model_name": "HTMLModel",
      "state": {
       "layout": "IPY_MODEL_65f752af7d364e05b5a0c413fac439ba",
       "style": "IPY_MODEL_a2f298dcc63045968c3808babb97da93",
       "value": " 3608501/? [00:00&lt;00:00, 17454657.13/s]"
      }
     },
     "e697b3b95a8a4792931c032f4aee4eb1": {
      "model_module": "@jupyter-widgets/base",
      "model_module_version": "2.0.0",
      "model_name": "LayoutModel",
      "state": {}
     },
     "e6df91bab109447abcbbcca8bca3e6d7": {
      "model_module": "@jupyter-widgets/controls",
      "model_module_version": "2.0.0",
      "model_name": "ProgressStyleModel",
      "state": {
       "description_width": ""
      }
     },
     "e7e641dae6564849aa8d125a8a904990": {
      "model_module": "@jupyter-widgets/base",
      "model_module_version": "2.0.0",
      "model_name": "LayoutModel",
      "state": {}
     },
     "e7eff9c147e24c009788d159acb69cc4": {
      "model_module": "@jupyter-widgets/base",
      "model_module_version": "2.0.0",
      "model_name": "LayoutModel",
      "state": {}
     },
     "e83dc0b2764145dbb0407a5c087db615": {
      "model_module": "@jupyter-widgets/base",
      "model_module_version": "2.0.0",
      "model_name": "LayoutModel",
      "state": {}
     },
     "e85ad911c4e641bd8db8bffbc22e997b": {
      "model_module": "@jupyter-widgets/controls",
      "model_module_version": "2.0.0",
      "model_name": "HTMLModel",
      "state": {
       "layout": "IPY_MODEL_d0b486e4244847d9a14391c94c119a5a",
       "style": "IPY_MODEL_02f149d8188c4667941d5692359370ac",
       "value": "Fetching file...: "
      }
     },
     "e9450e29ef694a6095459d9fcf0e016f": {
      "model_module": "@jupyter-widgets/controls",
      "model_module_version": "2.0.0",
      "model_name": "ProgressStyleModel",
      "state": {
       "description_width": ""
      }
     },
     "e98ac20d5efd4e1cb8a052016560a008": {
      "model_module": "@jupyter-widgets/controls",
      "model_module_version": "2.0.0",
      "model_name": "HTMLStyleModel",
      "state": {
       "description_width": "",
       "font_size": null,
       "text_color": null
      }
     },
     "eb84355b7d2748f281c0a55d0106a785": {
      "model_module": "@jupyter-widgets/controls",
      "model_module_version": "2.0.0",
      "model_name": "FloatProgressModel",
      "state": {
       "bar_style": "success",
       "layout": "IPY_MODEL_01e48450635c4cf59a3d1f1beb09f451",
       "max": 1,
       "style": "IPY_MODEL_e6df91bab109447abcbbcca8bca3e6d7",
       "value": 1
      }
     },
     "ed3dbb1507b04436bdfdfde3ff55d6f5": {
      "model_module": "@jupyter-widgets/controls",
      "model_module_version": "2.0.0",
      "model_name": "HTMLModel",
      "state": {
       "layout": "IPY_MODEL_8cfaa41f818a4ab7a166c49c6017aaf4",
       "style": "IPY_MODEL_7a3ca6858ef246eda5c4064b17a74caf",
       "value": "Fetching file...: "
      }
     },
     "ed8385791ff449df8193a5f978963b97": {
      "model_module": "@jupyter-widgets/controls",
      "model_module_version": "2.0.0",
      "model_name": "HTMLStyleModel",
      "state": {
       "description_width": "",
       "font_size": null,
       "text_color": null
      }
     },
     "ef14368288c74d6b9a4defdf840f725b": {
      "model_module": "@jupyter-widgets/controls",
      "model_module_version": "2.0.0",
      "model_name": "HTMLModel",
      "state": {
       "layout": "IPY_MODEL_d5c7cd57d91f41cf934a244451da38fa",
       "style": "IPY_MODEL_f380a1e28e5d4afd94202c6a620f521d",
       "value": " 2933/2933 [00:00&lt;00:00, 6220.90/s]"
      }
     },
     "efabd7e9426d4d82a3006a0fe6da5c3a": {
      "model_module": "@jupyter-widgets/controls",
      "model_module_version": "2.0.0",
      "model_name": "HTMLStyleModel",
      "state": {
       "description_width": "",
       "font_size": null,
       "text_color": null
      }
     },
     "efd264c97c3a48a2aebab8a4d3071132": {
      "model_module": "@jupyter-widgets/base",
      "model_module_version": "2.0.0",
      "model_name": "LayoutModel",
      "state": {
       "width": "20px"
      }
     },
     "f0d3c423b8c7467bb95d790ada9bbd40": {
      "model_module": "@jupyter-widgets/controls",
      "model_module_version": "2.0.0",
      "model_name": "HTMLModel",
      "state": {
       "layout": "IPY_MODEL_57eced484e074e0f996167060e9afcce",
       "style": "IPY_MODEL_5909996d6a914c49a6fcb19890652e54",
       "value": " 3608499/? [00:00&lt;00:00, 16402152.11/s]"
      }
     },
     "f17146cba96143d686c16dd0d434dafa": {
      "model_module": "@jupyter-widgets/controls",
      "model_module_version": "2.0.0",
      "model_name": "HTMLModel",
      "state": {
       "layout": "IPY_MODEL_a08e0d44f00640229f5c1175e0d91a03",
       "style": "IPY_MODEL_51b2b837933c48e99ca953fce014198f",
       "value": "Fetching file...: "
      }
     },
     "f1851fa966da427f82dcc938bf56cc7d": {
      "model_module": "@jupyter-widgets/controls",
      "model_module_version": "2.0.0",
      "model_name": "HTMLStyleModel",
      "state": {
       "description_width": "",
       "font_size": null,
       "text_color": null
      }
     },
     "f1df35803d374145af6301122a6f2962": {
      "model_module": "@jupyter-widgets/base",
      "model_module_version": "2.0.0",
      "model_name": "LayoutModel",
      "state": {
       "width": "20px"
      }
     },
     "f25712e8fd8a45e6bcfba2fd92b28295": {
      "model_module": "@jupyter-widgets/base",
      "model_module_version": "2.0.0",
      "model_name": "LayoutModel",
      "state": {}
     },
     "f380a1e28e5d4afd94202c6a620f521d": {
      "model_module": "@jupyter-widgets/controls",
      "model_module_version": "2.0.0",
      "model_name": "HTMLStyleModel",
      "state": {
       "description_width": "",
       "font_size": null,
       "text_color": null
      }
     },
     "f3937da021ae483485773cf8bc624f59": {
      "model_module": "@jupyter-widgets/controls",
      "model_module_version": "2.0.0",
      "model_name": "HTMLStyleModel",
      "state": {
       "description_width": "",
       "font_size": null,
       "text_color": null
      }
     },
     "f5869156e12847b498317c3e3489676f": {
      "model_module": "@jupyter-widgets/base",
      "model_module_version": "2.0.0",
      "model_name": "LayoutModel",
      "state": {
       "width": "20px"
      }
     },
     "f74eb179dce940d1b93d2c7fba36c697": {
      "model_module": "@jupyter-widgets/base",
      "model_module_version": "2.0.0",
      "model_name": "LayoutModel",
      "state": {}
     },
     "f75be913928d4550bbf6efc9a787834f": {
      "model_module": "@jupyter-widgets/controls",
      "model_module_version": "2.0.0",
      "model_name": "HTMLModel",
      "state": {
       "layout": "IPY_MODEL_e697b3b95a8a4792931c032f4aee4eb1",
       "style": "IPY_MODEL_3b4e24a95a9a4b279cdbbed6468aabe4",
       "value": " 3608507/? [00:00&lt;00:00, 15118019.37/s]"
      }
     },
     "f809615cce5947b6a38a9e741089f95e": {
      "model_module": "@jupyter-widgets/controls",
      "model_module_version": "2.0.0",
      "model_name": "FloatProgressModel",
      "state": {
       "bar_style": "success",
       "layout": "IPY_MODEL_266badbc951d44d693cd9f098c85520b",
       "max": 1,
       "style": "IPY_MODEL_deac09a5391d46578109a999a8e504d4",
       "value": 1
      }
     },
     "f8b57b88b7a2417bb224bff1e386d46a": {
      "model_module": "@jupyter-widgets/controls",
      "model_module_version": "2.0.0",
      "model_name": "HTMLStyleModel",
      "state": {
       "description_width": "",
       "font_size": null,
       "text_color": null
      }
     },
     "f9d3ebe8f9e540b0b1d973da8ba42627": {
      "model_module": "@jupyter-widgets/base",
      "model_module_version": "2.0.0",
      "model_name": "LayoutModel",
      "state": {
       "width": "20px"
      }
     },
     "fabb71e4724347ee9852f9e69d8c71aa": {
      "model_module": "@jupyter-widgets/controls",
      "model_module_version": "2.0.0",
      "model_name": "HTMLStyleModel",
      "state": {
       "description_width": "",
       "font_size": null,
       "text_color": null
      }
     },
     "fae5708adad6428097747a8a5c619964": {
      "model_module": "@jupyter-widgets/controls",
      "model_module_version": "2.0.0",
      "model_name": "HTMLModel",
      "state": {
       "layout": "IPY_MODEL_6fb5011dde864111a86400e3204d258b",
       "style": "IPY_MODEL_4833bbf8109146e481ca709c3d4b3ec0",
       "value": "Fetching file...: "
      }
     },
     "fcf8f73418864903a0c7acd6efbcd96f": {
      "model_module": "@jupyter-widgets/base",
      "model_module_version": "2.0.0",
      "model_name": "LayoutModel",
      "state": {}
     },
     "feb071e9081d4548a637a96dc4565f1b": {
      "model_module": "@jupyter-widgets/controls",
      "model_module_version": "2.0.0",
      "model_name": "FloatProgressModel",
      "state": {
       "bar_style": "success",
       "layout": "IPY_MODEL_6076dd24407d452abc188f42ee26c9a8",
       "max": 1,
       "style": "IPY_MODEL_cd7fd74b9acb424481dbba60156450eb",
       "value": 1
      }
     }
    },
    "version_major": 2,
    "version_minor": 0
   }
  }
 },
 "nbformat": 4,
 "nbformat_minor": 5
}
